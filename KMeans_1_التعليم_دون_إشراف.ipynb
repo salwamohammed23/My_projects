{
  "nbformat": 4,
  "nbformat_minor": 0,
  "metadata": {
    "colab": {
      "provenance": []
    },
    "kernelspec": {
      "name": "python3",
      "display_name": "Python 3"
    },
    "language_info": {
      "name": "python"
    }
  },
  "cells": [
    {
      "cell_type": "code",
      "execution_count": null,
      "metadata": {
        "id": "K9ytx5tyk9jY"
      },
      "outputs": [],
      "source": [
        "#Import Libraries\n",
        "from sklearn.model_selection import train_test_split\n",
        "from sklearn.cluster import KMeans\n",
        "import numpy as np\n",
        "#----------------------------------------------------\n",
        "# creating data\n",
        "X = np.random.rand(10000,2)\n",
        "y = np.random.rand(10000,0)\n",
        "\n",
        "#----------------------------------------------------\n",
        "#Splitting data\n",
        "\n",
        "X_train, X_test, y_train, y_test = train_test_split(X, y, test_size=0.33, random_state=44, shuffle =True)\n",
        "\n",
        "#Splitted Data\n",
        "#print('X_train shape is ' , X_train.shape)\n",
        "#print('X_test shape is ' , X_test.shape)\n",
        "#print('y_train shape is ' , y_train.shape)\n",
        "#print('y_test shape is ' , y_test.shape)\n"
      ]
    },
    {
      "cell_type": "code",
      "source": [
        "y"
      ],
      "metadata": {
        "colab": {
          "base_uri": "https://localhost:8080/"
        },
        "id": "-OS6XpxDvS-I",
        "outputId": "f3fe7d14-7013-4c2a-de8d-b629e29dda01"
      },
      "execution_count": null,
      "outputs": [
        {
          "output_type": "execute_result",
          "data": {
            "text/plain": [
              "array([], shape=(10000, 0), dtype=float64)"
            ]
          },
          "metadata": {},
          "execution_count": 2
        }
      ]
    },
    {
      "cell_type": "code",
      "source": [
        "#Applying KMeans Model\n",
        "\n",
        "'''\n",
        "sklearn.cluster.KMeans(n_clusters=8, init='k-means++’, n_init=10, max_iter=300,tol=0.0001,\n",
        "                       precompute_distances='auto’, verbose=0, random_state=None, copy_x=True,\n",
        "                       n_jobs=None, algorithm='auto’)\n",
        "'''\n",
        "\n",
        "KMeansModel = KMeans(n_clusters=112,init='k-means++', #also can be random,, k-means++\n",
        "                     random_state=33,algorithm= 'auto') # also can be full or elkan, auto\n",
        "KMeansModel.fit(X_train)\n",
        "\n",
        "#Calculating Details\n",
        "print('KMeansModel Train Score is : ' , KMeansModel.score(X_train))\n",
        "print('KMeansModel Test Score is : ' , KMeansModel.score(X_test))\n",
        "print('KMeansModel centers are : ' , KMeansModel.cluster_centers_)\n",
        "print('KMeansModel labels are : ' , KMeansModel.labels_)\n",
        "print('KMeansModel intertia is : ' , KMeansModel.inertia_)\n",
        "print('KMeansModel No. of iteration is : ' , KMeansModel.n_iter_)\n",
        "print('----------------------------------------------------')\n"
      ],
      "metadata": {
        "colab": {
          "base_uri": "https://localhost:8080/"
        },
        "id": "V91DfpW0vhjq",
        "outputId": "74b978ed-b69e-4fdc-ec72-51f2715dccfd"
      },
      "execution_count": null,
      "outputs": [
        {
          "output_type": "stream",
          "name": "stdout",
          "text": [
            "KMeansModel Train Score is :  -9.284362686572837\n",
            "KMeansModel Test Score is :  -5.135173298996586\n",
            "KMeansModel centers are :  [[0.76232256 0.5410114 ]\n",
            " [0.23299504 0.36472129]\n",
            " [0.36273832 0.80986495]\n",
            " [0.49809315 0.22875585]\n",
            " [0.83772157 0.78321203]\n",
            " [0.89359853 0.05920145]\n",
            " [0.04085398 0.04862567]\n",
            " [0.03345396 0.58079434]\n",
            " [0.11784504 0.71155448]\n",
            " [0.46439045 0.64660677]\n",
            " [0.73574046 0.40446792]\n",
            " [0.64315566 0.73813023]\n",
            " [0.17389705 0.12486104]\n",
            " [0.06281541 0.96403738]\n",
            " [0.91720731 0.45667653]\n",
            " [0.75815034 0.96018934]\n",
            " [0.66477718 0.14417701]\n",
            " [0.40177396 0.39985909]\n",
            " [0.55762661 0.8792409 ]\n",
            " [0.85983084 0.8715666 ]\n",
            " [0.93972393 0.64557521]\n",
            " [0.12119159 0.86964552]\n",
            " [0.31416274 0.56494211]\n",
            " [0.03982859 0.45000961]\n",
            " [0.33819565 0.04915741]\n",
            " [0.56773873 0.48987945]\n",
            " [0.77409319 0.31667587]\n",
            " [0.04213597 0.3264953 ]\n",
            " [0.35060684 0.96673811]\n",
            " [0.80540892 0.12109763]\n",
            " [0.58001183 0.37139429]\n",
            " [0.74089142 0.70155872]\n",
            " [0.9650996  0.24352493]\n",
            " [0.21503121 0.51733329]\n",
            " [0.52548113 0.76476587]\n",
            " [0.27014712 0.9558184 ]\n",
            " [0.34092818 0.22961903]\n",
            " [0.8111223  0.47817345]\n",
            " [0.20066355 0.70896474]\n",
            " [0.62893381 0.65046327]\n",
            " [0.11110774 0.22822305]\n",
            " [0.47881966 0.12412512]\n",
            " [0.58591265 0.25621778]\n",
            " [0.96078506 0.96035963]\n",
            " [0.79877299 0.22006069]\n",
            " [0.61728379 0.05496342]\n",
            " [0.11326307 0.61046426]\n",
            " [0.42490076 0.51613338]\n",
            " [0.05503335 0.79070381]\n",
            " [0.3700601  0.70042403]\n",
            " [0.95442157 0.80563225]\n",
            " [0.91746782 0.17194414]\n",
            " [0.47980714 0.34092987]\n",
            " [0.69648471 0.22107602]\n",
            " [0.21188691 0.19554058]\n",
            " [0.11667667 0.40531008]\n",
            " [0.71614045 0.79947775]\n",
            " [0.71431917 0.61715323]\n",
            " [0.47077029 0.85892394]\n",
            " [0.96793803 0.07547702]\n",
            " [0.66598287 0.87982332]\n",
            " [0.12306942 0.50851225]\n",
            " [0.9512015  0.37264251]\n",
            " [0.5678415  0.15920699]\n",
            " [0.27544314 0.86047915]\n",
            " [0.70598767 0.05944705]\n",
            " [0.5455728  0.6725    ]\n",
            " [0.63764582 0.55648055]\n",
            " [0.41734544 0.26863223]\n",
            " [0.27254819 0.64681961]\n",
            " [0.89210877 0.55139514]\n",
            " [0.17653315 0.94989418]\n",
            " [0.66693561 0.46147223]\n",
            " [0.19942968 0.61204185]\n",
            " [0.18235334 0.81348225]\n",
            " [0.76720782 0.87270977]\n",
            " [0.32435892 0.4786544 ]\n",
            " [0.84581503 0.69948725]\n",
            " [0.02646128 0.21040065]\n",
            " [0.61120369 0.81157992]\n",
            " [0.36808807 0.88964235]\n",
            " [0.40216937 0.16805117]\n",
            " [0.03459428 0.68348541]\n",
            " [0.29730221 0.4084598 ]\n",
            " [0.45079793 0.95388646]\n",
            " [0.38590359 0.59231126]\n",
            " [0.07658633 0.13583383]\n",
            " [0.94242438 0.89393523]\n",
            " [0.24339662 0.04102482]\n",
            " [0.43158875 0.75426473]\n",
            " [0.1429739  0.04155032]\n",
            " [0.79333741 0.04185767]\n",
            " [0.03365737 0.88439228]\n",
            " [0.29871781 0.13839279]\n",
            " [0.82486918 0.62276579]\n",
            " [0.66393    0.3222333 ]\n",
            " [0.28044105 0.76105632]\n",
            " [0.94399628 0.72296928]\n",
            " [0.65400861 0.96307055]\n",
            " [0.88740314 0.284662  ]\n",
            " [0.55665298 0.96596479]\n",
            " [0.32695726 0.31901581]\n",
            " [0.52188997 0.04801694]\n",
            " [0.83146602 0.39114494]\n",
            " [0.86353277 0.96326134]\n",
            " [0.49530085 0.43942694]\n",
            " [0.19207918 0.42948928]\n",
            " [0.24754193 0.26603455]\n",
            " [0.51428596 0.57490814]\n",
            " [0.14984484 0.32216165]\n",
            " [0.96922818 0.52096935]\n",
            " [0.42344659 0.05032061]]\n",
            "KMeansModel labels are :  [34 59 56 ...  6 48 17]\n",
            "KMeansModel intertia is :  9.284362686572837\n",
            "KMeansModel No. of iteration is :  31\n",
            "----------------------------------------------------\n"
          ]
        }
      ]
    },
    {
      "cell_type": "code",
      "source": [
        "\n",
        "#Calculating Prediction\n",
        "y_pred = KMeansModel.predict(X_test)\n",
        "print('Predicted Value for KMeansModel is : ' , y_pred[:10])\n"
      ],
      "metadata": {
        "colab": {
          "base_uri": "https://localhost:8080/"
        },
        "id": "liViAF_pwzNS",
        "outputId": "79733a19-330f-4673-f18a-be6b596251cd"
      },
      "execution_count": null,
      "outputs": [
        {
          "output_type": "stream",
          "name": "stdout",
          "text": [
            "Predicted Value for KMeansModel is :  [71 64  8 72 48 51 89 64  6 30]\n"
          ]
        }
      ]
    },
    {
      "cell_type": "code",
      "source": [],
      "metadata": {
        "id": "sEfzRywXw1Ia"
      },
      "execution_count": null,
      "outputs": []
    }
  ]
}