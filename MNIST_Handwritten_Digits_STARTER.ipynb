{
  "cells": [
    {
      "cell_type": "markdown",
      "metadata": {
        "id": "_DKM_cfpqDLw"
      },
      "source": [
        "# Introduction\n",
        "\n",
        "In this project, you will build a neural network of your own design to evaluate the MNIST dataset.\n",
        "\n",
        "Some of the benchmark results on MNIST include can be found [on Yann LeCun's page](http://yann.lecun.com/exdb/mnist/) and include:\n",
        "\n",
        "88% [Lecun et al., 1998](http://yann.lecun.com/exdb/publis/pdf/lecun-98.pdf)\n",
        "95.3% [Lecun et al., 1998](http://yann.lecun.com/exdb/publis/pdf/lecun-98.pdf)\n",
        "99.65% [Ciresan et al., 2011](http://people.idsia.ch/~juergen/ijcai2011.pdf)\n",
        "\n",
        "MNIST is a great dataset for sanity checking your models, since the accuracy levels achieved by large convolutional neural networks and small linear models are both quite high. This makes it important to be familiar with the data.\n",
        "\n",
        "## Imports"
      ]
    },
    {
      "cell_type": "code",
      "execution_count": null,
      "metadata": {
        "id": "CRINmSBRqDMD"
      },
      "outputs": [],
      "source": [
        "## This cell contains the essential imports you will need – DO NOT CHANGE THE CONTENTS! ##\n",
        "import torch\n",
        "import torch.nn as nn\n",
        "import torch.nn.functional as F\n",
        "import torch.optim as optim\n",
        "import torchvision\n",
        "import torchvision.transforms as transforms\n",
        "import matplotlib.pyplot as plt\n",
        "import numpy as np"
      ]
    },
    {
      "cell_type": "code",
      "execution_count": null,
      "metadata": {
        "colab": {
          "base_uri": "https://localhost:8080/"
        },
        "id": "u7kDFellqDMG",
        "outputId": "b8960e36-dab9-4da2-f5b0-82005c0ff4c6"
      },
      "outputs": [
        {
          "output_type": "stream",
          "name": "stdout",
          "text": [
            "Requirement already satisfied: ipywidgets in /usr/local/lib/python3.10/dist-packages (7.7.1)\n",
            "Requirement already satisfied: ipykernel>=4.5.1 in /usr/local/lib/python3.10/dist-packages (from ipywidgets) (5.5.6)\n",
            "Requirement already satisfied: ipython-genutils~=0.2.0 in /usr/local/lib/python3.10/dist-packages (from ipywidgets) (0.2.0)\n",
            "Requirement already satisfied: traitlets>=4.3.1 in /usr/local/lib/python3.10/dist-packages (from ipywidgets) (5.7.1)\n",
            "Requirement already satisfied: widgetsnbextension~=3.6.0 in /usr/local/lib/python3.10/dist-packages (from ipywidgets) (3.6.6)\n",
            "Requirement already satisfied: ipython>=4.0.0 in /usr/local/lib/python3.10/dist-packages (from ipywidgets) (7.34.0)\n",
            "Requirement already satisfied: jupyterlab-widgets>=1.0.0 in /usr/local/lib/python3.10/dist-packages (from ipywidgets) (3.0.10)\n",
            "Requirement already satisfied: jupyter-client in /usr/local/lib/python3.10/dist-packages (from ipykernel>=4.5.1->ipywidgets) (6.1.12)\n",
            "Requirement already satisfied: tornado>=4.2 in /usr/local/lib/python3.10/dist-packages (from ipykernel>=4.5.1->ipywidgets) (6.3.3)\n",
            "Requirement already satisfied: setuptools>=18.5 in /usr/local/lib/python3.10/dist-packages (from ipython>=4.0.0->ipywidgets) (67.7.2)\n",
            "Collecting jedi>=0.16 (from ipython>=4.0.0->ipywidgets)\n",
            "  Downloading jedi-0.19.1-py2.py3-none-any.whl (1.6 MB)\n",
            "\u001b[2K     \u001b[90m━━━━━━━━━━━━━━━━━━━━━━━━━━━━━━━━━━━━━━━━\u001b[0m \u001b[32m1.6/1.6 MB\u001b[0m \u001b[31m4.4 MB/s\u001b[0m eta \u001b[36m0:00:00\u001b[0m\n",
            "\u001b[?25hRequirement already satisfied: decorator in /usr/local/lib/python3.10/dist-packages (from ipython>=4.0.0->ipywidgets) (4.4.2)\n",
            "Requirement already satisfied: pickleshare in /usr/local/lib/python3.10/dist-packages (from ipython>=4.0.0->ipywidgets) (0.7.5)\n",
            "Requirement already satisfied: prompt-toolkit!=3.0.0,!=3.0.1,<3.1.0,>=2.0.0 in /usr/local/lib/python3.10/dist-packages (from ipython>=4.0.0->ipywidgets) (3.0.43)\n",
            "Requirement already satisfied: pygments in /usr/local/lib/python3.10/dist-packages (from ipython>=4.0.0->ipywidgets) (2.16.1)\n",
            "Requirement already satisfied: backcall in /usr/local/lib/python3.10/dist-packages (from ipython>=4.0.0->ipywidgets) (0.2.0)\n",
            "Requirement already satisfied: matplotlib-inline in /usr/local/lib/python3.10/dist-packages (from ipython>=4.0.0->ipywidgets) (0.1.7)\n",
            "Requirement already satisfied: pexpect>4.3 in /usr/local/lib/python3.10/dist-packages (from ipython>=4.0.0->ipywidgets) (4.9.0)\n",
            "Requirement already satisfied: notebook>=4.4.1 in /usr/local/lib/python3.10/dist-packages (from widgetsnbextension~=3.6.0->ipywidgets) (6.5.5)\n",
            "Requirement already satisfied: parso<0.9.0,>=0.8.3 in /usr/local/lib/python3.10/dist-packages (from jedi>=0.16->ipython>=4.0.0->ipywidgets) (0.8.4)\n",
            "Requirement already satisfied: jinja2 in /usr/local/lib/python3.10/dist-packages (from notebook>=4.4.1->widgetsnbextension~=3.6.0->ipywidgets) (3.1.4)\n",
            "Requirement already satisfied: pyzmq<25,>=17 in /usr/local/lib/python3.10/dist-packages (from notebook>=4.4.1->widgetsnbextension~=3.6.0->ipywidgets) (24.0.1)\n",
            "Requirement already satisfied: argon2-cffi in /usr/local/lib/python3.10/dist-packages (from notebook>=4.4.1->widgetsnbextension~=3.6.0->ipywidgets) (23.1.0)\n",
            "Requirement already satisfied: jupyter-core>=4.6.1 in /usr/local/lib/python3.10/dist-packages (from notebook>=4.4.1->widgetsnbextension~=3.6.0->ipywidgets) (5.7.2)\n",
            "Requirement already satisfied: nbformat in /usr/local/lib/python3.10/dist-packages (from notebook>=4.4.1->widgetsnbextension~=3.6.0->ipywidgets) (5.10.4)\n",
            "Requirement already satisfied: nbconvert>=5 in /usr/local/lib/python3.10/dist-packages (from notebook>=4.4.1->widgetsnbextension~=3.6.0->ipywidgets) (6.5.4)\n",
            "Requirement already satisfied: nest-asyncio>=1.5 in /usr/local/lib/python3.10/dist-packages (from notebook>=4.4.1->widgetsnbextension~=3.6.0->ipywidgets) (1.6.0)\n",
            "Requirement already satisfied: Send2Trash>=1.8.0 in /usr/local/lib/python3.10/dist-packages (from notebook>=4.4.1->widgetsnbextension~=3.6.0->ipywidgets) (1.8.3)\n",
            "Requirement already satisfied: terminado>=0.8.3 in /usr/local/lib/python3.10/dist-packages (from notebook>=4.4.1->widgetsnbextension~=3.6.0->ipywidgets) (0.18.1)\n",
            "Requirement already satisfied: prometheus-client in /usr/local/lib/python3.10/dist-packages (from notebook>=4.4.1->widgetsnbextension~=3.6.0->ipywidgets) (0.20.0)\n",
            "Requirement already satisfied: nbclassic>=0.4.7 in /usr/local/lib/python3.10/dist-packages (from notebook>=4.4.1->widgetsnbextension~=3.6.0->ipywidgets) (1.0.0)\n",
            "Requirement already satisfied: python-dateutil>=2.1 in /usr/local/lib/python3.10/dist-packages (from jupyter-client->ipykernel>=4.5.1->ipywidgets) (2.8.2)\n",
            "Requirement already satisfied: ptyprocess>=0.5 in /usr/local/lib/python3.10/dist-packages (from pexpect>4.3->ipython>=4.0.0->ipywidgets) (0.7.0)\n",
            "Requirement already satisfied: wcwidth in /usr/local/lib/python3.10/dist-packages (from prompt-toolkit!=3.0.0,!=3.0.1,<3.1.0,>=2.0.0->ipython>=4.0.0->ipywidgets) (0.2.13)\n",
            "Requirement already satisfied: platformdirs>=2.5 in /usr/local/lib/python3.10/dist-packages (from jupyter-core>=4.6.1->notebook>=4.4.1->widgetsnbextension~=3.6.0->ipywidgets) (4.2.2)\n",
            "Requirement already satisfied: jupyter-server>=1.8 in /usr/local/lib/python3.10/dist-packages (from nbclassic>=0.4.7->notebook>=4.4.1->widgetsnbextension~=3.6.0->ipywidgets) (1.24.0)\n",
            "Requirement already satisfied: notebook-shim>=0.2.3 in /usr/local/lib/python3.10/dist-packages (from nbclassic>=0.4.7->notebook>=4.4.1->widgetsnbextension~=3.6.0->ipywidgets) (0.2.4)\n",
            "Requirement already satisfied: lxml in /usr/local/lib/python3.10/dist-packages (from nbconvert>=5->notebook>=4.4.1->widgetsnbextension~=3.6.0->ipywidgets) (4.9.4)\n",
            "Requirement already satisfied: beautifulsoup4 in /usr/local/lib/python3.10/dist-packages (from nbconvert>=5->notebook>=4.4.1->widgetsnbextension~=3.6.0->ipywidgets) (4.12.3)\n",
            "Requirement already satisfied: bleach in /usr/local/lib/python3.10/dist-packages (from nbconvert>=5->notebook>=4.4.1->widgetsnbextension~=3.6.0->ipywidgets) (6.1.0)\n",
            "Requirement already satisfied: defusedxml in /usr/local/lib/python3.10/dist-packages (from nbconvert>=5->notebook>=4.4.1->widgetsnbextension~=3.6.0->ipywidgets) (0.7.1)\n",
            "Requirement already satisfied: entrypoints>=0.2.2 in /usr/local/lib/python3.10/dist-packages (from nbconvert>=5->notebook>=4.4.1->widgetsnbextension~=3.6.0->ipywidgets) (0.4)\n",
            "Requirement already satisfied: jupyterlab-pygments in /usr/local/lib/python3.10/dist-packages (from nbconvert>=5->notebook>=4.4.1->widgetsnbextension~=3.6.0->ipywidgets) (0.3.0)\n",
            "Requirement already satisfied: MarkupSafe>=2.0 in /usr/local/lib/python3.10/dist-packages (from nbconvert>=5->notebook>=4.4.1->widgetsnbextension~=3.6.0->ipywidgets) (2.1.5)\n",
            "Requirement already satisfied: mistune<2,>=0.8.1 in /usr/local/lib/python3.10/dist-packages (from nbconvert>=5->notebook>=4.4.1->widgetsnbextension~=3.6.0->ipywidgets) (0.8.4)\n",
            "Requirement already satisfied: nbclient>=0.5.0 in /usr/local/lib/python3.10/dist-packages (from nbconvert>=5->notebook>=4.4.1->widgetsnbextension~=3.6.0->ipywidgets) (0.10.0)\n",
            "Requirement already satisfied: packaging in /usr/local/lib/python3.10/dist-packages (from nbconvert>=5->notebook>=4.4.1->widgetsnbextension~=3.6.0->ipywidgets) (24.0)\n",
            "Requirement already satisfied: pandocfilters>=1.4.1 in /usr/local/lib/python3.10/dist-packages (from nbconvert>=5->notebook>=4.4.1->widgetsnbextension~=3.6.0->ipywidgets) (1.5.1)\n",
            "Requirement already satisfied: tinycss2 in /usr/local/lib/python3.10/dist-packages (from nbconvert>=5->notebook>=4.4.1->widgetsnbextension~=3.6.0->ipywidgets) (1.3.0)\n",
            "Requirement already satisfied: fastjsonschema>=2.15 in /usr/local/lib/python3.10/dist-packages (from nbformat->notebook>=4.4.1->widgetsnbextension~=3.6.0->ipywidgets) (2.19.1)\n",
            "Requirement already satisfied: jsonschema>=2.6 in /usr/local/lib/python3.10/dist-packages (from nbformat->notebook>=4.4.1->widgetsnbextension~=3.6.0->ipywidgets) (4.19.2)\n",
            "Requirement already satisfied: six>=1.5 in /usr/local/lib/python3.10/dist-packages (from python-dateutil>=2.1->jupyter-client->ipykernel>=4.5.1->ipywidgets) (1.16.0)\n",
            "Requirement already satisfied: argon2-cffi-bindings in /usr/local/lib/python3.10/dist-packages (from argon2-cffi->notebook>=4.4.1->widgetsnbextension~=3.6.0->ipywidgets) (21.2.0)\n",
            "Requirement already satisfied: attrs>=22.2.0 in /usr/local/lib/python3.10/dist-packages (from jsonschema>=2.6->nbformat->notebook>=4.4.1->widgetsnbextension~=3.6.0->ipywidgets) (23.2.0)\n",
            "Requirement already satisfied: jsonschema-specifications>=2023.03.6 in /usr/local/lib/python3.10/dist-packages (from jsonschema>=2.6->nbformat->notebook>=4.4.1->widgetsnbextension~=3.6.0->ipywidgets) (2023.12.1)\n",
            "Requirement already satisfied: referencing>=0.28.4 in /usr/local/lib/python3.10/dist-packages (from jsonschema>=2.6->nbformat->notebook>=4.4.1->widgetsnbextension~=3.6.0->ipywidgets) (0.35.1)\n",
            "Requirement already satisfied: rpds-py>=0.7.1 in /usr/local/lib/python3.10/dist-packages (from jsonschema>=2.6->nbformat->notebook>=4.4.1->widgetsnbextension~=3.6.0->ipywidgets) (0.18.1)\n",
            "Requirement already satisfied: anyio<4,>=3.1.0 in /usr/local/lib/python3.10/dist-packages (from jupyter-server>=1.8->nbclassic>=0.4.7->notebook>=4.4.1->widgetsnbextension~=3.6.0->ipywidgets) (3.7.1)\n",
            "Requirement already satisfied: websocket-client in /usr/local/lib/python3.10/dist-packages (from jupyter-server>=1.8->nbclassic>=0.4.7->notebook>=4.4.1->widgetsnbextension~=3.6.0->ipywidgets) (1.8.0)\n",
            "Requirement already satisfied: cffi>=1.0.1 in /usr/local/lib/python3.10/dist-packages (from argon2-cffi-bindings->argon2-cffi->notebook>=4.4.1->widgetsnbextension~=3.6.0->ipywidgets) (1.16.0)\n",
            "Requirement already satisfied: soupsieve>1.2 in /usr/local/lib/python3.10/dist-packages (from beautifulsoup4->nbconvert>=5->notebook>=4.4.1->widgetsnbextension~=3.6.0->ipywidgets) (2.5)\n",
            "Requirement already satisfied: webencodings in /usr/local/lib/python3.10/dist-packages (from bleach->nbconvert>=5->notebook>=4.4.1->widgetsnbextension~=3.6.0->ipywidgets) (0.5.1)\n",
            "Requirement already satisfied: idna>=2.8 in /usr/local/lib/python3.10/dist-packages (from anyio<4,>=3.1.0->jupyter-server>=1.8->nbclassic>=0.4.7->notebook>=4.4.1->widgetsnbextension~=3.6.0->ipywidgets) (3.7)\n",
            "Requirement already satisfied: sniffio>=1.1 in /usr/local/lib/python3.10/dist-packages (from anyio<4,>=3.1.0->jupyter-server>=1.8->nbclassic>=0.4.7->notebook>=4.4.1->widgetsnbextension~=3.6.0->ipywidgets) (1.3.1)\n",
            "Requirement already satisfied: exceptiongroup in /usr/local/lib/python3.10/dist-packages (from anyio<4,>=3.1.0->jupyter-server>=1.8->nbclassic>=0.4.7->notebook>=4.4.1->widgetsnbextension~=3.6.0->ipywidgets) (1.2.1)\n",
            "Requirement already satisfied: pycparser in /usr/local/lib/python3.10/dist-packages (from cffi>=1.0.1->argon2-cffi-bindings->argon2-cffi->notebook>=4.4.1->widgetsnbextension~=3.6.0->ipywidgets) (2.22)\n",
            "Installing collected packages: jedi\n",
            "Successfully installed jedi-0.19.1\n"
          ]
        }
      ],
      "source": [
        "pip install ipywidgets"
      ]
    },
    {
      "cell_type": "markdown",
      "metadata": {
        "id": "oPysrE1XqDMJ"
      },
      "source": [
        "## Load the Dataset\n",
        "\n",
        "Specify your transforms as a list if you intend to .\n",
        "The transforms module is already loaded as `transforms`.\n",
        "\n",
        "MNIST is fortunately included in the torchvision module.\n",
        "Then, you can create your dataset using the `MNIST` object from `torchvision.datasets` ([the documentation is available here](https://pytorch.org/vision/stable/datasets.html#mnist)).\n",
        "Make sure to specify `download=True`!\n",
        "\n",
        "Once your dataset is created, you'll also need to define a `DataLoader` from the `torch.utils.data` module for both the train and the test set."
      ]
    },
    {
      "cell_type": "code",
      "execution_count": null,
      "metadata": {
        "colab": {
          "base_uri": "https://localhost:8080/"
        },
        "id": "kOnQfr-1qDML",
        "outputId": "45f4b9ad-7180-4e8a-8bbb-c0c44c863373"
      },
      "outputs": [
        {
          "output_type": "stream",
          "name": "stdout",
          "text": [
            "Downloading http://yann.lecun.com/exdb/mnist/train-images-idx3-ubyte.gz\n",
            "Failed to download (trying next):\n",
            "HTTP Error 403: Forbidden\n",
            "\n",
            "Downloading https://ossci-datasets.s3.amazonaws.com/mnist/train-images-idx3-ubyte.gz\n",
            "Downloading https://ossci-datasets.s3.amazonaws.com/mnist/train-images-idx3-ubyte.gz to data/MNIST/raw/train-images-idx3-ubyte.gz\n"
          ]
        },
        {
          "output_type": "stream",
          "name": "stderr",
          "text": [
            "100%|██████████| 9912422/9912422 [00:01<00:00, 6064593.45it/s]\n"
          ]
        },
        {
          "output_type": "stream",
          "name": "stdout",
          "text": [
            "Extracting data/MNIST/raw/train-images-idx3-ubyte.gz to data/MNIST/raw\n",
            "\n",
            "Downloading http://yann.lecun.com/exdb/mnist/train-labels-idx1-ubyte.gz\n",
            "Failed to download (trying next):\n",
            "HTTP Error 403: Forbidden\n",
            "\n",
            "Downloading https://ossci-datasets.s3.amazonaws.com/mnist/train-labels-idx1-ubyte.gz\n",
            "Downloading https://ossci-datasets.s3.amazonaws.com/mnist/train-labels-idx1-ubyte.gz to data/MNIST/raw/train-labels-idx1-ubyte.gz\n"
          ]
        },
        {
          "output_type": "stream",
          "name": "stderr",
          "text": [
            "100%|██████████| 28881/28881 [00:00<00:00, 159763.89it/s]\n"
          ]
        },
        {
          "output_type": "stream",
          "name": "stdout",
          "text": [
            "Extracting data/MNIST/raw/train-labels-idx1-ubyte.gz to data/MNIST/raw\n",
            "\n",
            "Downloading http://yann.lecun.com/exdb/mnist/t10k-images-idx3-ubyte.gz\n",
            "Failed to download (trying next):\n",
            "HTTP Error 403: Forbidden\n",
            "\n",
            "Downloading https://ossci-datasets.s3.amazonaws.com/mnist/t10k-images-idx3-ubyte.gz\n",
            "Downloading https://ossci-datasets.s3.amazonaws.com/mnist/t10k-images-idx3-ubyte.gz to data/MNIST/raw/t10k-images-idx3-ubyte.gz\n"
          ]
        },
        {
          "output_type": "stream",
          "name": "stderr",
          "text": [
            "100%|██████████| 1648877/1648877 [00:01<00:00, 1505834.20it/s]\n"
          ]
        },
        {
          "output_type": "stream",
          "name": "stdout",
          "text": [
            "Extracting data/MNIST/raw/t10k-images-idx3-ubyte.gz to data/MNIST/raw\n",
            "\n",
            "Downloading http://yann.lecun.com/exdb/mnist/t10k-labels-idx1-ubyte.gz\n",
            "Failed to download (trying next):\n",
            "HTTP Error 403: Forbidden\n",
            "\n",
            "Downloading https://ossci-datasets.s3.amazonaws.com/mnist/t10k-labels-idx1-ubyte.gz\n",
            "Downloading https://ossci-datasets.s3.amazonaws.com/mnist/t10k-labels-idx1-ubyte.gz to data/MNIST/raw/t10k-labels-idx1-ubyte.gz\n"
          ]
        },
        {
          "output_type": "stream",
          "name": "stderr",
          "text": [
            "100%|██████████| 4542/4542 [00:00<00:00, 3380750.45it/s]"
          ]
        },
        {
          "output_type": "stream",
          "name": "stdout",
          "text": [
            "Extracting data/MNIST/raw/t10k-labels-idx1-ubyte.gz to data/MNIST/raw\n",
            "\n"
          ]
        },
        {
          "output_type": "stream",
          "name": "stderr",
          "text": [
            "\n"
          ]
        }
      ],
      "source": [
        "from torchvision import datasets\n",
        "\n",
        "# Number of subprocesses to use for data loading\n",
        "num_workers = 0\n",
        "# Number of samples per batch to load\n",
        "batch_size = 64\n",
        "\n",
        "# Define transforms\n",
        "transform = transforms.ToTensor()\n",
        "\n",
        "# Create training set and define training dataloader\n",
        "# choose the training and test datasets\n",
        "train_data = datasets.MNIST(root='data', train=True, download=True, transform=transform)\n",
        "train_loader = torch.utils.data.DataLoader(train_data, batch_size=batch_size, num_workers=num_workers)\n",
        "\n",
        "# Create test set and define test dataloader\n",
        "test_data = datasets.MNIST(root='data', train=False, download=True, transform=transform)\n",
        "test_loader = torch.utils.data.DataLoader(test_data, batch_size=batch_size, num_workers=num_workers)"
      ]
    },
    {
      "cell_type": "markdown",
      "metadata": {
        "id": "l2VtJsHNqDMN"
      },
      "source": [
        "## Justify your preprocessing\n",
        "**DOUBLE CLICK THIS CELL TO MODIFY**\n",
        "\n",
        "\n",
        "In your own words, why did you choose the transforms you chose? If you didn't use any preprocessing steps, why not?\n",
        "\n",
        "---\n",
        "\n",
        "The preprocessing steps I chose for the MNIST dataset include converting the images to tensors.\n",
        "\n",
        "**Converting to Tensors**: The original MNIST dataset consists of grayscale images represented as pixel values ranging from 0 to 255. To work with these images in PyTorch, it is necessary to convert them to tensors. Tensors are the primary data structure in PyTorch, allowing efficient computation on GPUs. Converting the images to tensors facilitates seamless integration with PyTorch's tensor-based operations and deep learning models."
      ]
    },
    {
      "cell_type": "markdown",
      "metadata": {
        "id": "xjXW0NHVqDMO"
      },
      "source": [
        "## Explore the Dataset\n",
        "Using matplotlib, numpy, and torch, explore the dimensions of your data.\n",
        "\n",
        "You can view images using the `show5` function defined below – it takes a data loader as an argument.\n",
        "Remember that normalized images will look really weird to you! You may want to try changing your transforms to view images.\n",
        "Typically using no transforms other than `toTensor()` works well for viewing – but not as well for training your network.\n",
        "If `show5` doesn't work, go back and check your code for creating your data loaders and your training/test sets."
      ]
    },
    {
      "cell_type": "code",
      "execution_count": null,
      "metadata": {
        "id": "fGMSzgR5qDMQ"
      },
      "outputs": [],
      "source": [
        "## This cell contains a function for showing 5 images from a dataloader – DO NOT CHANGE THE CONTENTS! ##\n",
        "def show5(img_loader):\n",
        "    dataiter = iter(img_loader)\n",
        "\n",
        "    batch = next(dataiter)\n",
        "    labels = batch[1][0:5]\n",
        "    images = batch[0][0:5]\n",
        "    for i in range(5):\n",
        "        print(int(labels[i].detach()))\n",
        "\n",
        "        image = images[i].numpy()\n",
        "        plt.imshow(image.T.squeeze().T)\n",
        "        plt.show()"
      ]
    },
    {
      "cell_type": "code",
      "execution_count": null,
      "metadata": {
        "colab": {
          "base_uri": "https://localhost:8080/",
          "height": 1000
        },
        "id": "X4zGZxkGqDMR",
        "outputId": "1ea73cd0-db2f-4487-97e5-2ba8e4458f8e"
      },
      "outputs": [
        {
          "output_type": "stream",
          "name": "stdout",
          "text": [
            "Training data dimensions: torch.Size([60000, 28, 28])\n",
            "Test data dimensions: torch.Size([10000, 28, 28])\n",
            "7\n"
          ]
        },
        {
          "output_type": "display_data",
          "data": {
            "text/plain": [
              "<Figure size 640x480 with 1 Axes>"
            ],
            "image/png": "[encoded data removed]"
          },
          "metadata": {}
        },
        {
          "output_type": "stream",
          "name": "stdout",
          "text": [
            "2\n"
          ]
        },
        {
          "output_type": "display_data",
          "data": {
            "text/plain": [
              "<Figure size 640x480 with 1 Axes>"
            ],
            "image/png": "[encoded data removed]"
          },
          "metadata": {}
        },
        {
          "output_type": "stream",
          "name": "stdout",
          "text": [
            "1\n"
          ]
        },
        {
          "output_type": "display_data",
          "data": {
            "text/plain": [
              "<Figure size 640x480 with 1 Axes>"
            ],
            "image/png": "[encoded data removed]"
          },
          "metadata": {}
        },
        {
          "output_type": "stream",
          "name": "stdout",
          "text": [
            "0\n"
          ]
        },
        {
          "output_type": "display_data",
          "data": {
            "text/plain": [
              "<Figure size 640x480 with 1 Axes>"
            ],
            "image/png": "[encoded data removed]"
          },
          "metadata": {}
        },
        {
          "output_type": "stream",
          "name": "stdout",
          "text": [
            "4\n"
          ]
        },
        {
          "output_type": "display_data",
          "data": {
            "text/plain": [
              "<Figure size 640x480 with 1 Axes>"
            ],
            "image/png": "[encoded data removed]"
          },
          "metadata": {}
        }
      ],
      "source": [
        "# Explore data\n",
        "# Dimensions of the data\n",
        "print(\"Training data dimensions:\", train_data.data.shape)\n",
        "print(\"Test data dimensions:\", test_data.data.shape)\n",
        "\n",
        "# Show 5 images from the training set\n",
        "show5(test_loader)"
      ]
    },
    {
      "cell_type": "markdown",
      "metadata": {
        "id": "6VrSuToRqDMS"
      },
      "source": [
        "## Build your Neural Network\n",
        "Using the layers in `torch.nn` (which has been imported as `nn`) and the `torch.nn.functional` module (imported as `F`), construct a neural network based on the parameters of the dataset.\n",
        "Use any architecture you like.\n",
        "\n",
        "*Note*: If you did not flatten your tensors in your transforms or as part of your preprocessing and you are using only `Linear` layers, make sure to use the `Flatten` layer in your network!"
      ]
    },
    {
      "cell_type": "code",
      "execution_count": null,
      "metadata": {
        "colab": {
          "base_uri": "https://localhost:8080/"
        },
        "id": "cJqML9_pqDMT",
        "outputId": "cf8dfc53-1a08-42ae-8ab6-de52445b50bc"
      },
      "outputs": [
        {
          "output_type": "stream",
          "name": "stdout",
          "text": [
            "CustomNetwork(\n",
            "  (fc1): Linear(in_features=784, out_features=512, bias=True)\n",
            "  (fc2): Linear(in_features=512, out_features=512, bias=True)\n",
            "  (fc3): Linear(in_features=512, out_features=10, bias=True)\n",
            "  (dropout): Dropout(p=0.2, inplace=False)\n",
            ")\n"
          ]
        }
      ],
      "source": [
        "## YOUR CODE HERE ##\n",
        "class CustomNetwork(nn.Module):\n",
        "    \"\"\"Custom neural network architecture for image classification.\n",
        "\n",
        "    This network consists of three fully connected layers with dropout for regularization.\n",
        "    The input size is expected to be 28x28 pixels.\n",
        "    \"\"\"\n",
        "\n",
        "    def __init__(self):\n",
        "        super(CustomNetwork, self).__init__()\n",
        "\n",
        "        # Define the layers of the neural network\n",
        "        self.fc1 = nn.Linear(28 * 28, 512)\n",
        "        self.fc2 = nn.Linear(512, 512)\n",
        "        self.fc3 = nn.Linear(512, 10)\n",
        "        self.dropout = nn.Dropout(0.2)\n",
        "\n",
        "    def forward(self, x):\n",
        "        \"\"\"Defines the forward pass of the neural network.\n",
        "\n",
        "        Args:\n",
        "            x (torch.Tensor): Input tensor of shape (batch_size, 1, 28, 28).\n",
        "\n",
        "        Returns:\n",
        "            torch.Tensor: Output tensor of shape (batch_size, 10) representing class scores.\n",
        "        \"\"\"\n",
        "        x = x.view(-1, 28 * 28)\n",
        "        x = F.relu(self.fc1(x))\n",
        "        x = self.dropout(x)\n",
        "        x = F.relu(self.fc2(x))\n",
        "        x = self.dropout(x)\n",
        "        x = self.fc3(x)\n",
        "        return x\n",
        "\n",
        "# Create an instance of the network\n",
        "model = CustomNetwork()\n",
        "print(model)"
      ]
    },
    {
      "cell_type": "markdown",
      "metadata": {
        "id": "6gjkx2cDqDMV"
      },
      "source": [
        "Specify a loss function and an optimizer, and instantiate the model.\n",
        "\n",
        "If you use a less common loss function, please note why you chose that loss function in a comment."
      ]
    },
    {
      "cell_type": "code",
      "execution_count": null,
      "metadata": {
        "id": "T74_qIiaqDMV"
      },
      "outputs": [],
      "source": [
        "## YOUR CODE HERE ##\n",
        "\n",
        "# Define the loss function\n",
        "criterion = nn.CrossEntropyLoss()\n",
        "\n",
        "# Define the optimizer\n",
        "optimizer = optim.SGD(model.parameters(), lr=0.01, momentum=0.9)"
      ]
    },
    {
      "cell_type": "markdown",
      "metadata": {
        "id": "1JGT5FfuqDMW"
      },
      "source": [
        "## Running your Neural Network\n",
        "Use whatever method you like to train your neural network, and ensure you record the average loss at each epoch.\n",
        "Don't forget to use `torch.device()` and the `.to()` method for both your model and your data if you are using GPU!\n",
        "\n",
        "If you want to print your loss **during** each epoch, you can use the `enumerate` function and print the loss after a set number of batches. 250 batches works well for most people!"
      ]
    },
    {
      "cell_type": "code",
      "execution_count": null,
      "metadata": {
        "colab": {
          "base_uri": "https://localhost:8080/"
        },
        "id": "7TWMl-HzqDMX",
        "outputId": "50d3a88e-f96e-4849-8dde-e44b1ae80c8d"
      },
      "outputs": [
        {
          "output_type": "stream",
          "name": "stdout",
          "text": [
            "Epoch [1/20], Batch [250/938], Loss: 1.0921\n",
            "Epoch [1/20], Batch [500/938], Loss: 0.3806\n",
            "Epoch [1/20], Batch [750/938], Loss: 0.3149\n",
            "Epoch [2/20], Batch [250/938], Loss: 0.2330\n",
            "Epoch [2/20], Batch [500/938], Loss: 0.1924\n",
            "Epoch [2/20], Batch [750/938], Loss: 0.1837\n",
            "Epoch [3/20], Batch [250/938], Loss: 0.1461\n",
            "Epoch [3/20], Batch [500/938], Loss: 0.1363\n",
            "Epoch [3/20], Batch [750/938], Loss: 0.1339\n",
            "Epoch [4/20], Batch [250/938], Loss: 0.1101\n",
            "Epoch [4/20], Batch [500/938], Loss: 0.1040\n",
            "Epoch [4/20], Batch [750/938], Loss: 0.1044\n",
            "Epoch [5/20], Batch [250/938], Loss: 0.0864\n",
            "Epoch [5/20], Batch [500/938], Loss: 0.0838\n",
            "Epoch [5/20], Batch [750/938], Loss: 0.0840\n",
            "Epoch [6/20], Batch [250/938], Loss: 0.0719\n",
            "Epoch [6/20], Batch [500/938], Loss: 0.0689\n",
            "Epoch [6/20], Batch [750/938], Loss: 0.0744\n",
            "Epoch [7/20], Batch [250/938], Loss: 0.0610\n",
            "Epoch [7/20], Batch [500/938], Loss: 0.0590\n",
            "Epoch [7/20], Batch [750/938], Loss: 0.0631\n",
            "Epoch [8/20], Batch [250/938], Loss: 0.0526\n",
            "Epoch [8/20], Batch [500/938], Loss: 0.0487\n",
            "Epoch [8/20], Batch [750/938], Loss: 0.0555\n",
            "Epoch [9/20], Batch [250/938], Loss: 0.0475\n",
            "Epoch [9/20], Batch [500/938], Loss: 0.0403\n",
            "Epoch [9/20], Batch [750/938], Loss: 0.0481\n",
            "Epoch [10/20], Batch [250/938], Loss: 0.0393\n",
            "Epoch [10/20], Batch [500/938], Loss: 0.0382\n",
            "Epoch [10/20], Batch [750/938], Loss: 0.0412\n",
            "Epoch [11/20], Batch [250/938], Loss: 0.0352\n",
            "Epoch [11/20], Batch [500/938], Loss: 0.0341\n",
            "Epoch [11/20], Batch [750/938], Loss: 0.0372\n",
            "Epoch [12/20], Batch [250/938], Loss: 0.0304\n",
            "Epoch [12/20], Batch [500/938], Loss: 0.0286\n",
            "Epoch [12/20], Batch [750/938], Loss: 0.0322\n",
            "Epoch [13/20], Batch [250/938], Loss: 0.0271\n",
            "Epoch [13/20], Batch [500/938], Loss: 0.0278\n",
            "Epoch [13/20], Batch [750/938], Loss: 0.0302\n",
            "Epoch [14/20], Batch [250/938], Loss: 0.0236\n",
            "Epoch [14/20], Batch [500/938], Loss: 0.0225\n",
            "Epoch [14/20], Batch [750/938], Loss: 0.0263\n",
            "Epoch [15/20], Batch [250/938], Loss: 0.0218\n",
            "Epoch [15/20], Batch [500/938], Loss: 0.0206\n",
            "Epoch [15/20], Batch [750/938], Loss: 0.0239\n",
            "Epoch [16/20], Batch [250/938], Loss: 0.0206\n",
            "Epoch [16/20], Batch [500/938], Loss: 0.0191\n",
            "Epoch [16/20], Batch [750/938], Loss: 0.0196\n",
            "Epoch [17/20], Batch [250/938], Loss: 0.0185\n",
            "Epoch [17/20], Batch [500/938], Loss: 0.0176\n",
            "Epoch [17/20], Batch [750/938], Loss: 0.0197\n",
            "Epoch [18/20], Batch [250/938], Loss: 0.0158\n",
            "Epoch [18/20], Batch [500/938], Loss: 0.0148\n",
            "Epoch [18/20], Batch [750/938], Loss: 0.0182\n",
            "Epoch [19/20], Batch [250/938], Loss: 0.0156\n",
            "Epoch [19/20], Batch [500/938], Loss: 0.0167\n",
            "Epoch [19/20], Batch [750/938], Loss: 0.0171\n",
            "Epoch [20/20], Batch [250/938], Loss: 0.0145\n",
            "Epoch [20/20], Batch [500/938], Loss: 0.0136\n",
            "Epoch [20/20], Batch [750/938], Loss: 0.0169\n",
            "Training completed!\n"
          ]
        }
      ],
      "source": [
        "## YOUR CODE HERE ##\n",
        "\n",
        "# Define the device (GPU or CPU)\n",
        "device = torch.device(\"cuda\" if torch.cuda.is_available() else \"cpu\")\n",
        "\n",
        "# Move the model to the device\n",
        "model = model.to(device)\n",
        "\n",
        "# Training loop\n",
        "num_epochs = 20\n",
        "print_freq = 250\n",
        "total_loss = 0\n",
        "total_batches = 0\n",
        "train_loss_list = []  # Initialize a list to store training loss\n",
        "\n",
        "for epoch in range(num_epochs):\n",
        "    for i, (inputs, labels) in enumerate(train_loader):\n",
        "        inputs = inputs.to(device)\n",
        "        labels = labels.to(device)\n",
        "\n",
        "        # Zero the gradients\n",
        "        optimizer.zero_grad()\n",
        "\n",
        "        # Forward pass\n",
        "        outputs = model(inputs)\n",
        "        loss = criterion(outputs, labels)\n",
        "\n",
        "        # Backward pass and optimization\n",
        "        loss.backward()\n",
        "        optimizer.step()\n",
        "\n",
        "        # Record the loss\n",
        "        total_loss += loss.item()\n",
        "        total_batches += 1\n",
        "\n",
        "        # Print loss at specified intervals\n",
        "        if (i + 1) % print_freq == 0:\n",
        "            avg_loss = total_loss / total_batches\n",
        "            print(f\"Epoch [{epoch + 1}/{num_epochs}], Batch [{i + 1}/{len(train_loader)}], Loss: {avg_loss:.4f}\")\n",
        "            total_loss = 0\n",
        "            total_batches = 0\n",
        "\n",
        "            train_loss_list.append(avg_loss)  # Append the training loss to the list\n",
        "\n",
        "print(\"Training completed!\")"
      ]
    },
    {
      "cell_type": "markdown",
      "metadata": {
        "id": "QhaiUsQRqDMY"
      },
      "source": [
        "Plot the training loss (and validation loss/accuracy, if recorded)."
      ]
    },
    {
      "cell_type": "code",
      "execution_count": null,
      "metadata": {
        "colab": {
          "base_uri": "https://localhost:8080/",
          "height": 487
        },
        "id": "R4SdBIejqDMY",
        "outputId": "159059cb-8e36-4ea1-f3ca-d7f57292088b"
      },
      "outputs": [
        {
          "output_type": "display_data",
          "data": {
            "text/plain": [
              "<Figure size 640x480 with 1 Axes>"
            ],
            "image/png": "[encoded data removed]"
          },
          "metadata": {}
        }
      ],
      "source": [
        "## YOUR CODE HERE ##\n",
        "\n",
        "# Plotting the training loss\n",
        "epochs = range(1, len(train_loss_list) + 1)  # Use the length of train_loss_list for the range\n",
        "\n",
        "plt.plot(epochs, train_loss_list, label='Training Loss')  # Plot the training loss values\n",
        "plt.xlabel('Epochs')  # Set the label for the x-axis\n",
        "plt.ylabel('Loss')  # Set the label for the y-axis\n",
        "plt.title('Training Loss')  # Set the title of the plot\n",
        "plt.legend()  # Display the legend\n",
        "plt.grid(True)  # Display grid lines\n",
        "plt.tight_layout()  # Adjust the spacing of the plot\n",
        "plt.show()  # Show the plot"
      ]
    },
    {
      "cell_type": "markdown",
      "metadata": {
        "id": "zjF98ke0qDMZ"
      },
      "source": [
        "## Testing your model\n",
        "Using the previously created `DataLoader` for the test set, compute the percentage of correct predictions using the highest probability prediction.\n",
        "\n",
        "If your accuracy is over 90%, great work, but see if you can push a bit further!\n",
        "If your accuracy is under 90%, you'll need to make improvements.\n",
        "Go back and check your model architecture, loss function, and optimizer to make sure they're appropriate for an image classification task."
      ]
    },
    {
      "cell_type": "code",
      "execution_count": null,
      "metadata": {
        "colab": {
          "base_uri": "https://localhost:8080/"
        },
        "id": "qjW_7aGtqDMa",
        "outputId": "603ac78c-1e13-4a5e-dfc9-ad614d7d7b4d"
      },
      "outputs": [
        {
          "output_type": "stream",
          "name": "stdout",
          "text": [
            "Test Loss: 0.059290\n",
            "\n",
            "Test Accuracy of 0: 99.49% (975/980)\n",
            "Test Accuracy of 1: 99.47% (1129/1135)\n",
            "Test Accuracy of 2: 97.97% (1011/1032)\n",
            "Test Accuracy of 3: 98.12% (991/1010)\n",
            "Test Accuracy of 4: 98.27% (965/982)\n",
            "Test Accuracy of 5: 98.88% (882/892)\n",
            "Test Accuracy of 6: 98.12% (940/958)\n",
            "Test Accuracy of 7: 97.76% (1005/1028)\n",
            "Test Accuracy of 8: 97.43% (949/974)\n",
            "Test Accuracy of 9: 97.72% (986/1009)\n",
            "\n",
            "Test Accuracy (Overall): 98.33% (9833/10000)\n"
          ]
        }
      ],
      "source": [
        "## YOUR CODE HERE ##\n",
        "\n",
        "# Initialize variables to monitor test loss and accuracy\n",
        "test_loss = 0.0\n",
        "correct = 0\n",
        "total = 0\n",
        "class_correct = [0] * 10\n",
        "class_total = [0] * 10\n",
        "\n",
        "model.eval()  # Set the model to evaluation mode\n",
        "\n",
        "# Disable gradient calculation and enable faster computation\n",
        "with torch.no_grad():\n",
        "    for data, target in test_loader:\n",
        "        data = data.to(device)\n",
        "        target = target.to(device)\n",
        "\n",
        "        # Forward pass: compute predicted outputs by passing inputs to the model\n",
        "        output = model(data)\n",
        "\n",
        "        # Calculate the loss\n",
        "        loss = criterion(output, target)\n",
        "\n",
        "        # Update test loss\n",
        "        test_loss += loss.item() * data.size(0)\n",
        "\n",
        "        # Convert output probabilities to predicted class\n",
        "        _, predicted = torch.max(output, 1)\n",
        "\n",
        "        # Update total examples and correct predictions\n",
        "        total += target.size(0)\n",
        "        correct += (predicted == target).sum().item()\n",
        "\n",
        "        # Calculate test accuracy for each object class\n",
        "        for i in range(target.size(0)):\n",
        "            label = target[i]\n",
        "            class_correct[label] += (predicted[i] == label).item()\n",
        "            class_total[label] += 1\n",
        "\n",
        "# Calculate and print average test loss\n",
        "test_loss /= total\n",
        "print(f\"Test Loss: {test_loss:.6f}\\n\")\n",
        "\n",
        "# Print test accuracy for each object class\n",
        "for i in range(10):\n",
        "    if class_total[i] > 0:\n",
        "        accuracy = 100 * class_correct[i] / class_total[i]\n",
        "        print(f\"Test Accuracy of {i}: {accuracy:.2f}% ({class_correct[i]}/{class_total[i]})\")\n",
        "    else:\n",
        "        print(f\"Test Accuracy of {i}: N/A (no training examples)\")\n",
        "\n",
        "# Print overall test accuracy\n",
        "overall_accuracy = 100 * correct / total\n",
        "print(f\"\\nTest Accuracy (Overall): {overall_accuracy:.2f}% ({correct}/{total})\")"
      ]
    },
    {
      "cell_type": "markdown",
      "metadata": {
        "id": "eKJEXNjHqDMb"
      },
      "source": [
        "## Saving your model\n",
        "Using `torch.save`, save your model for future loading."
      ]
    },
    {
      "cell_type": "code",
      "execution_count": null,
      "metadata": {
        "colab": {
          "base_uri": "https://localhost:8080/"
        },
        "id": "Bfs-EQ1LqDMc",
        "outputId": "9f588db0-cffb-42c6-edcb-bc17f92ef758"
      },
      "outputs": [
        {
          "output_type": "stream",
          "name": "stdout",
          "text": [
            "Model saved successfully.\n"
          ]
        }
      ],
      "source": [
        "# Specify the file path for saving the model\n",
        "model_path = 'model_1.pt'\n",
        "\n",
        "# Save the model state dictionary and other necessary information\n",
        "torch.save({\n",
        "    'model_state_dict': model.state_dict(),\n",
        "    'optimizer_state_dict': optimizer.state_dict(),\n",
        "    'train_loss_list': train_loss_list\n",
        "}, model_path)\n",
        "\n",
        "print(\"Model saved successfully.\")"
      ]
    },
    {
      "cell_type": "markdown",
      "metadata": {
        "id": "Zg9MYkINqDMd"
      },
      "source": [
        "## Visualizes sample test results with predicted labels and ground-truth labels."
      ]
    },
    {
      "cell_type": "code",
      "execution_count": null,
      "metadata": {
        "id": "7UW-pur8qDMd"
      },
      "outputs": [],
      "source": [
        "import matplotlib.pyplot as plt\n",
        "\n",
        "def visualize_sample_results(model, test_loader, device):\n",
        "    \"\"\"\n",
        "    Visualizes sample test results with predicted labels and ground-truth labels.\n",
        "\n",
        "    Args:\n",
        "        model (nn.Module): The trained model.\n",
        "        test_loader (DataLoader): DataLoader for the test dataset.\n",
        "        device (torch.device): Device (GPU or CPU) to use for inference.\n",
        "\n",
        "    Returns:\n",
        "        None\n",
        "    \"\"\"\n",
        "\n",
        "    # Set the model to evaluation mode\n",
        "    model.eval()\n",
        "\n",
        "    # Initialize the figure\n",
        "    fig = plt.figure(figsize=(12, 8))\n",
        "\n",
        "    # Iterate over the test dataset\n",
        "    for i, (inputs, labels) in enumerate(test_loader):\n",
        "        inputs = inputs.to(device)\n",
        "        labels = labels.to(device)\n",
        "\n",
        "        # Forward pass\n",
        "        outputs = model(inputs)\n",
        "        _, preds = torch.max(outputs, 1)\n",
        "\n",
        "        # Convert to numpy arrays\n",
        "        inputs = inputs.cpu().numpy()\n",
        "        preds = preds.cpu().numpy()\n",
        "        labels = labels.cpu().numpy()\n",
        "\n",
        "        # Plot the images\n",
        "        for j in range(15):\n",
        "            ax = plt.subplot(3, 5, j + 1)\n",
        "            ax.axis(\"off\")\n",
        "            ax.imshow(inputs[j].squeeze(), cmap=\"gray\")\n",
        "\n",
        "            # Set the label color based on the prediction accuracy\n",
        "            if preds[j] == labels[j]:\n",
        "                label_color = \"red\"\n",
        "            else:\n",
        "                label_color = \"black\"\n",
        "\n",
        "            ax.set_title(f\"{preds[j]} ({labels[j]})\", color=label_color)\n",
        "\n",
        "        # Break after displaying 20 images\n",
        "        if i == 3:\n",
        "            break\n",
        "\n",
        "    plt.tight_layout()\n",
        "    plt.show()"
      ]
    },
    {
      "cell_type": "code",
      "execution_count": null,
      "metadata": {
        "colab": {
          "base_uri": "https://localhost:8080/",
          "height": 634
        },
        "id": "9aygDW1OqDMe",
        "outputId": "cf34075e-ff08-4ed7-8a0f-4ed87d685838"
      },
      "outputs": [
        {
          "output_type": "display_data",
          "data": {
            "text/plain": [
              "<Figure size 1200x800 with 15 Axes>"
            ],
            "image/png": "[encoded data removed]"
          },
          "metadata": {}
        }
      ],
      "source": [
        "visualize_sample_results(model, test_loader, device)"
      ]
    },
    {
      "cell_type": "markdown",
      "metadata": {
        "id": "gqZ2I4vKqDMe"
      },
      "source": [
        "## Improving your model\n",
        "\n",
        "Once your model is done training, try tweaking your hyperparameters and training again below to improve your accuracy on the test set!"
      ]
    },
    {
      "cell_type": "code",
      "execution_count": null,
      "metadata": {
        "id": "4MDrEs3XqDMf"
      },
      "outputs": [],
      "source": [
        "# Define the transformation\n",
        "transform = transforms.Compose([\n",
        "    transforms.Resize((28, 28)),\n",
        "    transforms.ToTensor()\n",
        "])\n",
        "\n",
        "# Apply the transformation to the dataset\n",
        "train_data = datasets.MNIST(root='data', train=True, download=True, transform=transform)"
      ]
    },
    {
      "cell_type": "markdown",
      "metadata": {
        "id": "ChLFCPsWqDMf"
      },
      "source": [
        "In this upgraded architecture, I have replaced the fully connected layers with convolutional layers to leverage the spatial information in the images. The model consists of three convolutional layers with increasing depth, followed by max pooling layers to downsample the feature maps. The output of the convolutional layers is flattened and passed through fully connected layers to perform classification. Dropout layers are added for regularization. These modifications allow the model to capture more complex patterns and improve performance and accuracy on image classification tasks."
      ]
    },
    {
      "cell_type": "code",
      "execution_count": null,
      "metadata": {
        "colab": {
          "base_uri": "https://localhost:8080/"
        },
        "id": "qw9a5QhaqDMg",
        "outputId": "8084dcb0-b321-45cf-eac1-3ad7d5f181ad"
      },
      "outputs": [
        {
          "output_type": "stream",
          "name": "stdout",
          "text": [
            "CustomNetwork(\n",
            "  (conv1): Conv2d(1, 32, kernel_size=(3, 3), stride=(1, 1), padding=(1, 1))\n",
            "  (conv2): Conv2d(32, 64, kernel_size=(3, 3), stride=(1, 1), padding=(1, 1))\n",
            "  (conv3): Conv2d(64, 128, kernel_size=(3, 3), stride=(1, 1), padding=(1, 1))\n",
            "  (maxpool): MaxPool2d(kernel_size=2, stride=2, padding=0, dilation=1, ceil_mode=False)\n",
            "  (fc1): Linear(in_features=1152, out_features=512, bias=True)\n",
            "  (fc2): Linear(in_features=512, out_features=256, bias=True)\n",
            "  (fc3): Linear(in_features=256, out_features=10, bias=True)\n",
            "  (dropout): Dropout(p=0.5, inplace=False)\n",
            ")\n"
          ]
        }
      ],
      "source": [
        "class CustomNetwork(nn.Module):\n",
        "    \"\"\"Custom neural network architecture for image classification.\n",
        "\n",
        "    This network consists of multiple convolutional layers followed by fully connected layers.\n",
        "    The input size is expected to be 28x28 pixels.\n",
        "    \"\"\"\n",
        "\n",
        "    def __init__(self):\n",
        "        super(CustomNetwork, self).__init__()\n",
        "\n",
        "        # Convolutional layers\n",
        "        self.conv1 = nn.Conv2d(1, 32, kernel_size=3, stride=1, padding=1)\n",
        "        self.conv2 = nn.Conv2d(32, 64, kernel_size=3, stride=1, padding=1)\n",
        "        self.conv3 = nn.Conv2d(64, 128, kernel_size=3, stride=1, padding=1)\n",
        "\n",
        "        # Max pooling layer\n",
        "        self.maxpool = nn.MaxPool2d(kernel_size=2, stride=2)\n",
        "\n",
        "        # Fully connected layers\n",
        "        self.fc1 = nn.Linear(128 * 3 * 3, 512)  # Adjust the input size here\n",
        "        self.fc2 = nn.Linear(512, 256)\n",
        "        self.fc3 = nn.Linear(256, 10)\n",
        "        self.dropout = nn.Dropout(0.5)\n",
        "\n",
        "    def forward(self, x):\n",
        "        \"\"\"Defines the forward pass of the neural network.\n",
        "\n",
        "        Args:\n",
        "            x (torch.Tensor): Input tensor of shape (batch_size, 1, 28, 28).\n",
        "\n",
        "        Returns:\n",
        "            torch.Tensor: Output tensor of shape (batch_size, 10) representing class scores.\n",
        "        \"\"\"\n",
        "        x = F.relu(self.conv1(x))\n",
        "        x = self.maxpool(x)\n",
        "        x = F.relu(self.conv2(x))\n",
        "        x = self.maxpool(x)\n",
        "        x = F.relu(self.conv3(x))\n",
        "        x = self.maxpool(x)\n",
        "        x = x.view(x.size(0), -1)  # Reshape to (batch_size, num_features)\n",
        "        x = F.relu(self.fc1(x))\n",
        "        x = self.dropout(x)\n",
        "        x = F.relu(self.fc2(x))\n",
        "        x = self.dropout(x)\n",
        "        x = self.fc3(x)\n",
        "        return x\n",
        "\n",
        "# Create an instance of the network\n",
        "model = CustomNetwork()\n",
        "print(model)"
      ]
    },
    {
      "cell_type": "code",
      "execution_count": null,
      "metadata": {
        "colab": {
          "base_uri": "https://localhost:8080/"
        },
        "id": "zJhKUl7UqDMh",
        "outputId": "af9ea5ef-76f9-4cb2-9ca5-a1a2cb10cc2a"
      },
      "outputs": [
        {
          "output_type": "stream",
          "name": "stdout",
          "text": [
            "Epoch [1/20], Batch [250/938], Loss: 2.3033\n",
            "Epoch [1/20], Batch [500/938], Loss: 2.2986\n",
            "Epoch [1/20], Batch [750/938], Loss: 2.2938\n",
            "Epoch [1/20], Average Loss: 2.2865\n",
            "Epoch [2/20], Batch [250/938], Loss: 2.2761\n",
            "Epoch [2/20], Batch [500/938], Loss: 2.1673\n",
            "Epoch [2/20], Batch [750/938], Loss: 1.5459\n",
            "Epoch [2/20], Average Loss: 0.9527\n",
            "Epoch [3/20], Batch [250/938], Loss: 0.8307\n",
            "Epoch [3/20], Batch [500/938], Loss: 0.5754\n",
            "Epoch [3/20], Batch [750/938], Loss: 0.4533\n",
            "Epoch [3/20], Average Loss: 0.3552\n",
            "Epoch [4/20], Batch [250/938], Loss: 0.3403\n",
            "Epoch [4/20], Batch [500/938], Loss: 0.2866\n",
            "Epoch [4/20], Batch [750/938], Loss: 0.2576\n",
            "Epoch [4/20], Average Loss: 0.2166\n",
            "Epoch [5/20], Batch [250/938], Loss: 0.2134\n",
            "Epoch [5/20], Batch [500/938], Loss: 0.1963\n",
            "Epoch [5/20], Batch [750/938], Loss: 0.1836\n",
            "Epoch [5/20], Average Loss: 0.1662\n",
            "Epoch [6/20], Batch [250/938], Loss: 0.1689\n",
            "Epoch [6/20], Batch [500/938], Loss: 0.1554\n",
            "Epoch [6/20], Batch [750/938], Loss: 0.1505\n",
            "Epoch [6/20], Average Loss: 0.1270\n",
            "Epoch [7/20], Batch [250/938], Loss: 0.1345\n",
            "Epoch [7/20], Batch [500/938], Loss: 0.1287\n",
            "Epoch [7/20], Batch [750/938], Loss: 0.1297\n",
            "Epoch [7/20], Average Loss: 0.1126\n",
            "Epoch [8/20], Batch [250/938], Loss: 0.1182\n",
            "Epoch [8/20], Batch [500/938], Loss: 0.1133\n",
            "Epoch [8/20], Batch [750/938], Loss: 0.1115\n",
            "Epoch [8/20], Average Loss: 0.1009\n",
            "Epoch [9/20], Batch [250/938], Loss: 0.1038\n",
            "Epoch [9/20], Batch [500/938], Loss: 0.1014\n",
            "Epoch [9/20], Batch [750/938], Loss: 0.1028\n",
            "Epoch [9/20], Average Loss: 0.0933\n",
            "Epoch [10/20], Batch [250/938], Loss: 0.0953\n",
            "Epoch [10/20], Batch [500/938], Loss: 0.0908\n",
            "Epoch [10/20], Batch [750/938], Loss: 0.0939\n",
            "Epoch [10/20], Average Loss: 0.0858\n",
            "Epoch [11/20], Batch [250/938], Loss: 0.0858\n",
            "Epoch [11/20], Batch [500/938], Loss: 0.0859\n",
            "Epoch [11/20], Batch [750/938], Loss: 0.0865\n",
            "Epoch [11/20], Average Loss: 0.0791\n",
            "Epoch [12/20], Batch [250/938], Loss: 0.0817\n",
            "Epoch [12/20], Batch [500/938], Loss: 0.0792\n",
            "Epoch [12/20], Batch [750/938], Loss: 0.0848\n",
            "Epoch [12/20], Average Loss: 0.0747\n",
            "Epoch [13/20], Batch [250/938], Loss: 0.0760\n",
            "Epoch [13/20], Batch [500/938], Loss: 0.0752\n",
            "Epoch [13/20], Batch [750/938], Loss: 0.0807\n",
            "Epoch [13/20], Average Loss: 0.0704\n",
            "Epoch [14/20], Batch [250/938], Loss: 0.0733\n",
            "Epoch [14/20], Batch [500/938], Loss: 0.0697\n",
            "Epoch [14/20], Batch [750/938], Loss: 0.0708\n",
            "Epoch [14/20], Average Loss: 0.0652\n",
            "Epoch [15/20], Batch [250/938], Loss: 0.0670\n",
            "Epoch [15/20], Batch [500/938], Loss: 0.0669\n",
            "Epoch [15/20], Batch [750/938], Loss: 0.0725\n",
            "Epoch [15/20], Average Loss: 0.0594\n",
            "Epoch [16/20], Batch [250/938], Loss: 0.0614\n",
            "Epoch [16/20], Batch [500/938], Loss: 0.0622\n",
            "Epoch [16/20], Batch [750/938], Loss: 0.0648\n",
            "Epoch [16/20], Average Loss: 0.0550\n",
            "Epoch [17/20], Batch [250/938], Loss: 0.0587\n",
            "Epoch [17/20], Batch [500/938], Loss: 0.0570\n",
            "Epoch [17/20], Batch [750/938], Loss: 0.0623\n",
            "Epoch [17/20], Average Loss: 0.0567\n",
            "Epoch [18/20], Batch [250/938], Loss: 0.0577\n",
            "Epoch [18/20], Batch [500/938], Loss: 0.0571\n",
            "Epoch [18/20], Batch [750/938], Loss: 0.0604\n",
            "Epoch [18/20], Average Loss: 0.0540\n",
            "Epoch [19/20], Batch [250/938], Loss: 0.0532\n",
            "Epoch [19/20], Batch [500/938], Loss: 0.0562\n",
            "Epoch [19/20], Batch [750/938], Loss: 0.0591\n",
            "Epoch [19/20], Average Loss: 0.0533\n",
            "Epoch [20/20], Batch [250/938], Loss: 0.0527\n",
            "Epoch [20/20], Batch [500/938], Loss: 0.0526\n",
            "Epoch [20/20], Batch [750/938], Loss: 0.0555\n",
            "Epoch [20/20], Average Loss: 0.0520\n",
            "Training completed!\n"
          ]
        }
      ],
      "source": [
        "# Define the device (GPU or CPU)\n",
        "device = torch.device(\"cuda\" if torch.cuda.is_available() else \"cpu\")\n",
        "\n",
        "# Move the model to the device\n",
        "model = model.to(device)\n",
        "\n",
        "# Define the loss function\n",
        "criterion = nn.CrossEntropyLoss()\n",
        "\n",
        "# Define the optimizer\n",
        "optimizer = torch.optim.SGD(model.parameters(), lr=0.01)\n",
        "\n",
        "# Training loop\n",
        "num_epochs = 20\n",
        "print_freq = 250\n",
        "total_loss = 0\n",
        "total_batches = 0\n",
        "train_loss_list = []  # Initialize a list to store training loss\n",
        "\n",
        "for epoch in range(num_epochs):\n",
        "    for i, (inputs, labels) in enumerate(train_loader):\n",
        "        inputs = inputs.to(device)\n",
        "        labels = labels.to(device)\n",
        "\n",
        "        # Zero the gradients\n",
        "        optimizer.zero_grad()\n",
        "\n",
        "        # Forward pass\n",
        "        outputs = model(inputs)\n",
        "        loss = criterion(outputs, labels)\n",
        "\n",
        "        # Backward pass and optimization\n",
        "        loss.backward()\n",
        "        optimizer.step()\n",
        "\n",
        "        # Record the loss\n",
        "        total_loss += loss.item()\n",
        "        total_batches += 1\n",
        "\n",
        "        # Print loss at specified intervals\n",
        "        if (i + 1) % print_freq == 0:\n",
        "            avg_loss = total_loss / total_batches\n",
        "            print(f\"Epoch [{epoch + 1}/{num_epochs}], Batch [{i + 1}/{len(train_loader)}], Loss: {avg_loss:.4f}\")\n",
        "            total_loss = 0\n",
        "            total_batches = 0\n",
        "\n",
        "    # Calculate average epoch loss\n",
        "    avg_epoch_loss = total_loss / total_batches\n",
        "    train_loss_list.append(avg_epoch_loss)\n",
        "\n",
        "    print(f\"Epoch [{epoch + 1}/{num_epochs}], Average Loss: {avg_epoch_loss:.4f}\")\n",
        "\n",
        "print(\"Training completed!\")"
      ]
    },
    {
      "cell_type": "markdown",
      "metadata": {
        "id": "UsrBvPSgqDMi"
      },
      "source": [
        "## Testing your model\n",
        "Using the previously created `DataLoader` for the test set, compute the percentage of correct predictions using the highest probability prediction.\n",
        "\n",
        "If your accuracy is over 90%, great work, but see if you can push a bit further!\n",
        "If your accuracy is under 90%, you'll need to make improvements.\n",
        "Go back and check your model architecture, loss function, and optimizer to make sure they're appropriate for an image classification task."
      ]
    },
    {
      "cell_type": "code",
      "execution_count": null,
      "metadata": {
        "colab": {
          "base_uri": "https://localhost:8080/"
        },
        "id": "lEeebd_6qDMi",
        "outputId": "e92ba3b1-3dca-4bbb-ffd1-b1330de7f304"
      },
      "outputs": [
        {
          "output_type": "stream",
          "name": "stdout",
          "text": [
            "Test Loss: 0.033809\n",
            "\n",
            "Test Accuracy of 0: 99.39% (974/980)\n",
            "Test Accuracy of 1: 99.65% (1131/1135)\n",
            "Test Accuracy of 2: 98.93% (1021/1032)\n",
            "Test Accuracy of 3: 99.11% (1001/1010)\n",
            "Test Accuracy of 4: 99.08% (973/982)\n",
            "Test Accuracy of 5: 99.10% (884/892)\n",
            "Test Accuracy of 6: 97.60% (935/958)\n",
            "Test Accuracy of 7: 98.05% (1008/1028)\n",
            "Test Accuracy of 8: 98.67% (961/974)\n",
            "Test Accuracy of 9: 98.41% (993/1009)\n",
            "\n",
            "Test Accuracy (Overall): 98.81% (9881/10000)\n"
          ]
        }
      ],
      "source": [
        "## YOUR CODE HERE ##\n",
        "\n",
        "# Initialize variables to monitor test loss and accuracy\n",
        "test_loss = 0.0\n",
        "correct = 0\n",
        "total = 0\n",
        "class_correct = [0] * 10\n",
        "class_total = [0] * 10\n",
        "\n",
        "model.eval()  # Set the model to evaluation mode\n",
        "\n",
        "# Disable gradient calculation and enable faster computation\n",
        "with torch.no_grad():\n",
        "    for data, target in test_loader:\n",
        "        data = data.to(device)\n",
        "        target = target.to(device)\n",
        "\n",
        "        # Forward pass: compute predicted outputs by passing inputs to the model\n",
        "        output = model(data)\n",
        "\n",
        "        # Calculate the loss\n",
        "        loss = criterion(output, target)\n",
        "\n",
        "        # Update test loss\n",
        "        test_loss += loss.item() * data.size(0)\n",
        "\n",
        "        # Convert output probabilities to predicted class\n",
        "        _, predicted = torch.max(output, 1)\n",
        "\n",
        "        # Update total examples and correct predictions\n",
        "        total += target.size(0)\n",
        "        correct += (predicted == target).sum().item()\n",
        "\n",
        "        # Calculate test accuracy for each object class\n",
        "        for i in range(target.size(0)):\n",
        "            label = target[i]\n",
        "            class_correct[label] += (predicted[i] == label).item()\n",
        "            class_total[label] += 1\n",
        "\n",
        "# Calculate and print average test loss\n",
        "test_loss /= total\n",
        "print(f\"Test Loss: {test_loss:.6f}\\n\")\n",
        "\n",
        "# Print test accuracy for each object class\n",
        "for i in range(10):\n",
        "    if class_total[i] > 0:\n",
        "        accuracy = 100 * class_correct[i] / class_total[i]\n",
        "        print(f\"Test Accuracy of {i}: {accuracy:.2f}% ({class_correct[i]}/{class_total[i]})\")\n",
        "    else:\n",
        "        print(f\"Test Accuracy of {i}: N/A (no training examples)\")\n",
        "\n",
        "# Print overall test accuracy\n",
        "overall_accuracy = 100 * correct / total\n",
        "print(f\"\\nTest Accuracy (Overall): {overall_accuracy:.2f}% ({correct}/{total})\")"
      ]
    },
    {
      "cell_type": "markdown",
      "metadata": {
        "id": "4quXutH1qDMr"
      },
      "source": [
        "## Saving your model\n",
        "Using `torch.save`, save your model for future loading."
      ]
    },
    {
      "cell_type": "code",
      "execution_count": null,
      "metadata": {
        "colab": {
          "base_uri": "https://localhost:8080/"
        },
        "id": "RiMp9B5yqDMs",
        "outputId": "97e37be1-b346-495d-98c1-d8f385fb3ff0"
      },
      "outputs": [
        {
          "output_type": "stream",
          "name": "stdout",
          "text": [
            "Model saved successfully.\n"
          ]
        }
      ],
      "source": [
        "## YOUR CODE HERE ##\n",
        "\n",
        "# Specify the file path for saving the model\n",
        "model_path = 'model.pt'\n",
        "\n",
        "# Save the model state dictionary and other necessary information\n",
        "torch.save({\n",
        "    'model_state_dict': model.state_dict(),\n",
        "    'optimizer_state_dict': optimizer.state_dict(),\n",
        "    'train_loss_list': train_loss_list\n",
        "}, model_path)\n",
        "\n",
        "print(\"Model saved successfully.\")"
      ]
    }
  ],
  "metadata": {
    "kernelspec": {
      "display_name": "Python 3",
      "language": "python",
      "name": "python3"
    },
    "language_info": {
      "codemirror_mode": {
        "name": "ipython",
        "version": 3
      },
      "file_extension": ".py",
      "mimetype": "text/x-python",
      "name": "python",
      "nbconvert_exporter": "python",
      "pygments_lexer": "ipython3",
      "version": "3.7.6"
    },
    "colab": {
      "provenance": []
    }
  },
  "nbformat": 4,
  "nbformat_minor": 0
}