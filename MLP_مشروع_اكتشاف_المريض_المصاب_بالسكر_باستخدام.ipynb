{
  "nbformat": 4,
  "nbformat_minor": 0,
  "metadata": {
    "colab": {
      "provenance": []
    },
    "kernelspec": {
      "name": "python3",
      "display_name": "Python 3"
    },
    "language_info": {
      "name": "python"
    }
  },
  "cells": [
    {
      "cell_type": "code",
      "execution_count": null,
      "metadata": {
        "colab": {
          "base_uri": "https://localhost:8080/",
          "height": 53
        },
        "id": "JHh9ut-ib-9Z",
        "outputId": "25d28769-937d-4c96-874c-20e1f6c469ff"
      },
      "outputs": [
        {
          "output_type": "execute_result",
          "data": {
            "text/plain": [
              "'\\nAttribute Information:\\n\\nNumber of times pregnant\\nPlasma glucose concentration a 2 hours in an oral glucose tolerance test\\nDiastolic blood pressure (mm Hg)\\nTriceps skin fold thickness (mm)\\n2-Hour serum insulin (mu U/ml)\\nBody mass index (weight in kg/(height in m)^2)\\nDiabetes pedigree function\\nAge (years)\\nClass variable (0 or 1)\\n'"
            ],
            "application/vnd.google.colaboratory.intrinsic+json": {
              "type": "string"
            }
          },
          "metadata": {},
          "execution_count": 47
        }
      ],
      "source": [
        "'''\n",
        "Attribute Information:\n",
        "\n",
        "Number of times pregnant\n",
        "Plasma glucose concentration a 2 hours in an oral glucose tolerance test\n",
        "Diastolic blood pressure (mm Hg)\n",
        "Triceps skin fold thickness (mm)\n",
        "2-Hour serum insulin (mu U/ml)\n",
        "Body mass index (weight in kg/(height in m)^2)\n",
        "Diabetes pedigree function\n",
        "Age (years)\n",
        "Class variable (0 or 1)\n",
        "'''"
      ]
    },
    {
      "cell_type": "code",
      "source": [
        "import pandas as pd\n",
        "data=pd.read_csv('/content/diabetes.csv')"
      ],
      "metadata": {
        "id": "bj1BJ8QBCfAs"
      },
      "execution_count": null,
      "outputs": []
    },
    {
      "cell_type": "code",
      "source": [
        "data.head(5)"
      ],
      "metadata": {
        "colab": {
          "base_uri": "https://localhost:8080/",
          "height": 206
        },
        "id": "M62flNSsC6SD",
        "outputId": "16465d47-bdaf-40fa-be3f-1bbdd7aa0697"
      },
      "execution_count": null,
      "outputs": [
        {
          "output_type": "execute_result",
          "data": {
            "text/plain": [
              "   Pregnancies  Glucose  BloodPressure  SkinThickness  Insulin   BMI  \\\n",
              "0            6      148             72             35        0  33.6   \n",
              "1            1       85             66             29        0  26.6   \n",
              "2            8      183             64              0        0  23.3   \n",
              "3            1       89             66             23       94  28.1   \n",
              "4            0      137             40             35      168  43.1   \n",
              "\n",
              "   DiabetesPedigreeFunction  Age  Outcome  \n",
              "0                     0.627   50        1  \n",
              "1                     0.351   31        0  \n",
              "2                     0.672   32        1  \n",
              "3                     0.167   21        0  \n",
              "4                     2.288   33        1  "
            ],
            "text/html": [
              "\n",
              "  <div id=\"df-86153946-1628-4b5d-85fe-d43fc8310e04\">\n",
              "    <div class=\"colab-df-container\">\n",
              "      <div>\n",
              "<style scoped>\n",
              "    .dataframe tbody tr th:only-of-type {\n",
              "        vertical-align: middle;\n",
              "    }\n",
              "\n",
              "    .dataframe tbody tr th {\n",
              "        vertical-align: top;\n",
              "    }\n",
              "\n",
              "    .dataframe thead th {\n",
              "        text-align: right;\n",
              "    }\n",
              "</style>\n",
              "<table border=\"1\" class=\"dataframe\">\n",
              "  <thead>\n",
              "    <tr style=\"text-align: right;\">\n",
              "      <th></th>\n",
              "      <th>Pregnancies</th>\n",
              "      <th>Glucose</th>\n",
              "      <th>BloodPressure</th>\n",
              "      <th>SkinThickness</th>\n",
              "      <th>Insulin</th>\n",
              "      <th>BMI</th>\n",
              "      <th>DiabetesPedigreeFunction</th>\n",
              "      <th>Age</th>\n",
              "      <th>Outcome</th>\n",
              "    </tr>\n",
              "  </thead>\n",
              "  <tbody>\n",
              "    <tr>\n",
              "      <th>0</th>\n",
              "      <td>6</td>\n",
              "      <td>148</td>\n",
              "      <td>72</td>\n",
              "      <td>35</td>\n",
              "      <td>0</td>\n",
              "      <td>33.6</td>\n",
              "      <td>0.627</td>\n",
              "      <td>50</td>\n",
              "      <td>1</td>\n",
              "    </tr>\n",
              "    <tr>\n",
              "      <th>1</th>\n",
              "      <td>1</td>\n",
              "      <td>85</td>\n",
              "      <td>66</td>\n",
              "      <td>29</td>\n",
              "      <td>0</td>\n",
              "      <td>26.6</td>\n",
              "      <td>0.351</td>\n",
              "      <td>31</td>\n",
              "      <td>0</td>\n",
              "    </tr>\n",
              "    <tr>\n",
              "      <th>2</th>\n",
              "      <td>8</td>\n",
              "      <td>183</td>\n",
              "      <td>64</td>\n",
              "      <td>0</td>\n",
              "      <td>0</td>\n",
              "      <td>23.3</td>\n",
              "      <td>0.672</td>\n",
              "      <td>32</td>\n",
              "      <td>1</td>\n",
              "    </tr>\n",
              "    <tr>\n",
              "      <th>3</th>\n",
              "      <td>1</td>\n",
              "      <td>89</td>\n",
              "      <td>66</td>\n",
              "      <td>23</td>\n",
              "      <td>94</td>\n",
              "      <td>28.1</td>\n",
              "      <td>0.167</td>\n",
              "      <td>21</td>\n",
              "      <td>0</td>\n",
              "    </tr>\n",
              "    <tr>\n",
              "      <th>4</th>\n",
              "      <td>0</td>\n",
              "      <td>137</td>\n",
              "      <td>40</td>\n",
              "      <td>35</td>\n",
              "      <td>168</td>\n",
              "      <td>43.1</td>\n",
              "      <td>2.288</td>\n",
              "      <td>33</td>\n",
              "      <td>1</td>\n",
              "    </tr>\n",
              "  </tbody>\n",
              "</table>\n",
              "</div>\n",
              "      <button class=\"colab-df-convert\" onclick=\"convertToInteractive('df-86153946-1628-4b5d-85fe-d43fc8310e04')\"\n",
              "              title=\"Convert this dataframe to an interactive table.\"\n",
              "              style=\"display:none;\">\n",
              "        \n",
              "  <svg xmlns=\"http://www.w3.org/2000/svg\" height=\"24px\"viewBox=\"0 0 24 24\"\n",
              "       width=\"24px\">\n",
              "    <path d=\"M0 0h24v24H0V0z\" fill=\"none\"/>\n",
              "    <path d=\"M18.56 5.44l.94 2.06.94-2.06 2.06-.94-2.06-.94-.94-2.06-.94 2.06-2.06.94zm-11 1L8.5 8.5l.94-2.06 2.06-.94-2.06-.94L8.5 2.5l-.94 2.06-2.06.94zm10 10l.94 2.06.94-2.06 2.06-.94-2.06-.94-.94-2.06-.94 2.06-2.06.94z\"/><path d=\"M17.41 7.96l-1.37-1.37c-.4-.4-.92-.59-1.43-.59-.52 0-1.04.2-1.43.59L10.3 9.45l-7.72 7.72c-.78.78-.78 2.05 0 2.83L4 21.41c.39.39.9.59 1.41.59.51 0 1.02-.2 1.41-.59l7.78-7.78 2.81-2.81c.8-.78.8-2.07 0-2.86zM5.41 20L4 18.59l7.72-7.72 1.47 1.35L5.41 20z\"/>\n",
              "  </svg>\n",
              "      </button>\n",
              "      \n",
              "  <style>\n",
              "    .colab-df-container {\n",
              "      display:flex;\n",
              "      flex-wrap:wrap;\n",
              "      gap: 12px;\n",
              "    }\n",
              "\n",
              "    .colab-df-convert {\n",
              "      background-color: #E8F0FE;\n",
              "      border: none;\n",
              "      border-radius: 50%;\n",
              "      cursor: pointer;\n",
              "      display: none;\n",
              "      fill: #1967D2;\n",
              "      height: 32px;\n",
              "      padding: 0 0 0 0;\n",
              "      width: 32px;\n",
              "    }\n",
              "\n",
              "    .colab-df-convert:hover {\n",
              "      background-color: #E2EBFA;\n",
              "      box-shadow: 0px 1px 2px rgba(60, 64, 67, 0.3), 0px 1px 3px 1px rgba(60, 64, 67, 0.15);\n",
              "      fill: #174EA6;\n",
              "    }\n",
              "\n",
              "    [theme=dark] .colab-df-convert {\n",
              "      background-color: #3B4455;\n",
              "      fill: #D2E3FC;\n",
              "    }\n",
              "\n",
              "    [theme=dark] .colab-df-convert:hover {\n",
              "      background-color: #434B5C;\n",
              "      box-shadow: 0px 1px 3px 1px rgba(0, 0, 0, 0.15);\n",
              "      filter: drop-shadow(0px 1px 2px rgba(0, 0, 0, 0.3));\n",
              "      fill: #FFFFFF;\n",
              "    }\n",
              "  </style>\n",
              "\n",
              "      <script>\n",
              "        const buttonEl =\n",
              "          document.querySelector('#df-86153946-1628-4b5d-85fe-d43fc8310e04 button.colab-df-convert');\n",
              "        buttonEl.style.display =\n",
              "          google.colab.kernel.accessAllowed ? 'block' : 'none';\n",
              "\n",
              "        async function convertToInteractive(key) {\n",
              "          const element = document.querySelector('#df-86153946-1628-4b5d-85fe-d43fc8310e04');\n",
              "          const dataTable =\n",
              "            await google.colab.kernel.invokeFunction('convertToInteractive',\n",
              "                                                     [key], {});\n",
              "          if (!dataTable) return;\n",
              "\n",
              "          const docLinkHtml = 'Like what you see? Visit the ' +\n",
              "            '<a target=\"_blank\" href=https://colab.research.google.com/notebooks/data_table.ipynb>data table notebook</a>'\n",
              "            + ' to learn more about interactive tables.';\n",
              "          element.innerHTML = '';\n",
              "          dataTable['output_type'] = 'display_data';\n",
              "          await google.colab.output.renderOutput(dataTable, element);\n",
              "          const docLink = document.createElement('div');\n",
              "          docLink.innerHTML = docLinkHtml;\n",
              "          element.appendChild(docLink);\n",
              "        }\n",
              "      </script>\n",
              "    </div>\n",
              "  </div>\n",
              "  "
            ]
          },
          "metadata": {},
          "execution_count": 49
        }
      ]
    },
    {
      "cell_type": "code",
      "source": [
        "\n",
        "# Extracting data attributes / features\n",
        "X = data.drop(['Outcome'], axis=1) # drug خد جميع الداتا ما عدا\n",
        "\n",
        "# Extracting target/ class labels\n",
        "y = data.Outcome\n",
        "\n",
        "import numpy as np\n",
        "y= np.array(y, dtype='float64')\n",
        "\n",
        "print(type(x))\n",
        "print(type(y))"
      ],
      "metadata": {
        "colab": {
          "base_uri": "https://localhost:8080/"
        },
        "id": "xHFhzzFAFC05",
        "outputId": "69c5db34-cb52-44e8-8205-aa5e79da3121"
      },
      "execution_count": null,
      "outputs": [
        {
          "output_type": "stream",
          "name": "stdout",
          "text": [
            "<class 'numpy.ndarray'>\n",
            "<class 'numpy.ndarray'>\n"
          ]
        }
      ]
    },
    {
      "cell_type": "code",
      "source": [
        "from sklearn.model_selection import train_test_split\n",
        "X_train,X_test,y_train,y_test = train_test_split(x ,y , test_size =0.2,random_state=0, shuffle = False)"
      ],
      "metadata": {
        "id": "aDmv7q5YDBzj"
      },
      "execution_count": null,
      "outputs": []
    },
    {
      "cell_type": "code",
      "source": [
        "print(X_train.shape)\n",
        "print(y_train.shape)\n",
        "print('--------------')\n",
        "print(X_test.shape)\n",
        "print(y_test.shape)"
      ],
      "metadata": {
        "colab": {
          "base_uri": "https://localhost:8080/"
        },
        "id": "-ZG88nF9FqWJ",
        "outputId": "4b987a0d-b1c8-4ec1-d220-343205e20adb"
      },
      "execution_count": null,
      "outputs": [
        {
          "output_type": "stream",
          "name": "stdout",
          "text": [
            "(614, 8)\n",
            "(614,)\n",
            "--------------\n",
            "(154, 8)\n",
            "(154,)\n"
          ]
        }
      ]
    },
    {
      "cell_type": "code",
      "source": [
        "# Creating Tensors\n",
        "import torch\n",
        "\n",
        "X_train=torch.FloatTensor(X_train)\n",
        "X_test=torch.FloatTensor(X_test)\n",
        "y_train=torch.LongTensor(y_train)\n",
        "y_test=torch.LongTensor(y_test)\n",
        "\n",
        "\n",
        "print(X_train.shape)\n",
        "print(y_train.shape)\n",
        "print('----------')\n",
        "print(X_test.shape)\n",
        "print(y_test.shape)\n",
        "print('----------')\n",
        "print(type(X_train))"
      ],
      "metadata": {
        "colab": {
          "base_uri": "https://localhost:8080/"
        },
        "id": "FsxL50ZJK8yN",
        "outputId": "16401551-e55f-4704-c2c3-dde7bfcae416"
      },
      "execution_count": null,
      "outputs": [
        {
          "output_type": "stream",
          "name": "stdout",
          "text": [
            "torch.Size([614, 8])\n",
            "torch.Size([614])\n",
            "----------\n",
            "torch.Size([154, 8])\n",
            "torch.Size([154])\n",
            "----------\n",
            "<class 'torch.Tensor'>\n"
          ]
        }
      ]
    },
    {
      "cell_type": "code",
      "source": [
        "import torch.nn as nn\n",
        "\n",
        "class Model(nn.Module):\n",
        "  def __init__(self):\n",
        "    super(Model,self).__init__()\n",
        "    self.fc1 =torch.nn.Linear(x.shape[1],5) #7\n",
        "    self.fc2 =torch.nn.Linear(5,3)\n",
        "    self.fc3 =torch.nn.Linear(3,2)\n",
        "    self.sigmoid=torch.nn.Sigmoid()\n",
        "\n",
        "  def forward(self,x):\n",
        "    #\n",
        "    out =self.fc1(x)\n",
        "    out =self.sigmoid(out)\n",
        "    out =self.fc2(out)\n",
        "    out =self.sigmoid(out)\n",
        "    out =self.fc3(out)\n",
        "    return out"
      ],
      "metadata": {
        "id": "meWaRuiIF3kh"
      },
      "execution_count": null,
      "outputs": []
    },
    {
      "cell_type": "code",
      "source": [
        "# f = torch.tensor([[1.0, 2.0,3.0,4.0,5.0,6.0],[1.0, 2.0,3.0,4.0,5.0,6.0]])\n",
        "# print(f.shape)\n",
        "net = Model()\n",
        "# net.forward(f)\n"
      ],
      "metadata": {
        "id": "lS2lBqWPGyTP"
      },
      "execution_count": null,
      "outputs": []
    },
    {
      "cell_type": "code",
      "source": [
        "loss_function = nn.CrossEntropyLoss()\n",
        "optimizer = torch.optim.Adam(net.parameters(),lr=0.01)"
      ],
      "metadata": {
        "id": "EUjJ3T6uHQ6_"
      },
      "execution_count": null,
      "outputs": []
    },
    {
      "cell_type": "code",
      "source": [
        "def train_MLP( model, X_train, y_train, criterion,optimizer):\n",
        "\n",
        "    model.train()\n",
        "    running_loss = 0.0\n",
        "    running_corrects = 0.0\n",
        "\n",
        "    outputs = model(X_train)\n",
        "    loss = criterion(outputs, y_train)\n",
        "    optimizer.zero_grad()\n",
        "    loss.backward()\n",
        "    optimizer.step()\n",
        "\n",
        "\n",
        "      # get the scores with largest values & their corresponding idx (so the class that is most likely)\n",
        "    # max_scores, max_idx_class = mdl(X).max(dim=1)  # [B, n_classes] -> [B], # get values & indices with the max vals in the dim with scores for each class/label\n",
        "    max_scores, preds = torch.max(outputs, dim=1)\n",
        "\n",
        "    running_loss += loss.item() * X_train.size(0)\n",
        "    # This: correct += (preds == labels).sum().item() and this: running_corrects += torch.sum(preds == labels.data) are the same.\n",
        "    running_corrects += torch.sum(preds == y_train.data)\n",
        "\n",
        "    epoch_loss = running_loss / len(X_train)\n",
        "    epoch_acc = running_corrects / len(X_train)\n",
        "\n",
        "    return epoch_acc,epoch_loss\n",
        "\n",
        "def vaildate_MLP(model,X_test,y_test,criterion):\n",
        "    model.eval()\n",
        "    running_loss = 0.0\n",
        "    running_corrects = 0.0\n",
        "\n",
        "    outputs = model(X_test)\n",
        "    loss = criterion(outputs, y_test)\n",
        "\n",
        "    _, preds = torch.max(outputs, 1)\n",
        "    running_loss += loss.item() * X_test.size(0)\n",
        "    running_corrects += torch.sum(preds == y_test.data)\n",
        "\n",
        "    epoch_loss = running_loss / len(X_test)\n",
        "    epoch_acc = running_corrects/ len(X_test)\n",
        "\n",
        "    return epoch_acc,epoch_loss"
      ],
      "metadata": {
        "id": "C7nRhhUVKBjW"
      },
      "execution_count": null,
      "outputs": []
    },
    {
      "cell_type": "code",
      "source": [
        "number_of_iteration =614\n",
        "final_losses=[]\n",
        "final_accuarcy = []\n",
        "preds = []\n",
        "\n",
        "\n",
        "test_losses = []\n",
        "test_accuarcy = []\n",
        "for i in range(number_of_iteration):\n",
        "    i= i+1\n",
        "    epoch_acc, epoch_loss = train_MLP( net, X_train, y_train, loss_function,optimizer)\n",
        "    final_losses.append(epoch_loss)\n",
        "    final_accuarcy.append(epoch_acc)\n",
        "\n",
        "\n",
        "\n",
        "    test_acc,test_loss = vaildate_MLP(net,X_test,y_test,loss_function)\n",
        "    test_losses.append(test_loss)\n",
        "    test_accuarcy.append(test_acc)\n",
        "\n",
        "    if i % 10 == 1:\n",
        "        print(\"Epoch number: {} and the loss : {}\".format(i,epoch_loss))\n",
        "        print(\"Epoch number: {} and the accuarcy : {}\".format(i,100*epoch_acc))\n"
      ],
      "metadata": {
        "colab": {
          "base_uri": "https://localhost:8080/"
        },
        "id": "z1eu7xwfKDTt",
        "outputId": "66adccac-aaca-4b7a-a937-518cb6618611"
      },
      "execution_count": null,
      "outputs": [
        {
          "output_type": "stream",
          "name": "stdout",
          "text": [
            "Epoch number: 1 and the loss : 0.7217820286750793\n",
            "Epoch number: 1 and the accuarcy : 34.6905517578125\n",
            "Epoch number: 11 and the loss : 0.6478985548019409\n",
            "Epoch number: 11 and the accuarcy : 65.3094482421875\n",
            "Epoch number: 21 and the loss : 0.6415606141090393\n",
            "Epoch number: 21 and the accuarcy : 65.3094482421875\n",
            "Epoch number: 31 and the loss : 0.63787442445755\n",
            "Epoch number: 31 and the accuarcy : 65.3094482421875\n",
            "Epoch number: 41 and the loss : 0.6313249468803406\n",
            "Epoch number: 41 and the accuarcy : 65.3094482421875\n",
            "Epoch number: 51 and the loss : 0.6254770755767822\n",
            "Epoch number: 51 and the accuarcy : 65.3094482421875\n",
            "Epoch number: 61 and the loss : 0.6183700561523438\n",
            "Epoch number: 61 and the accuarcy : 65.3094482421875\n",
            "Epoch number: 71 and the loss : 0.6106518507003784\n",
            "Epoch number: 71 and the accuarcy : 65.3094482421875\n",
            "Epoch number: 81 and the loss : 0.6023865342140198\n",
            "Epoch number: 81 and the accuarcy : 65.3094482421875\n",
            "Epoch number: 91 and the loss : 0.5941219925880432\n",
            "Epoch number: 91 and the accuarcy : 68.07817840576172\n",
            "Epoch number: 101 and the loss : 0.5823704600334167\n",
            "Epoch number: 101 and the accuarcy : 69.2182388305664\n",
            "Epoch number: 111 and the loss : 0.5717124938964844\n",
            "Epoch number: 111 and the accuarcy : 69.86970520019531\n",
            "Epoch number: 121 and the loss : 0.5646688938140869\n",
            "Epoch number: 121 and the accuarcy : 70.35830688476562\n",
            "Epoch number: 131 and the loss : 0.5589615106582642\n",
            "Epoch number: 131 and the accuarcy : 72.80130004882812\n",
            "Epoch number: 141 and the loss : 0.5543989539146423\n",
            "Epoch number: 141 and the accuarcy : 73.28990173339844\n",
            "Epoch number: 151 and the loss : 0.5513167977333069\n",
            "Epoch number: 151 and the accuarcy : 73.28990173339844\n",
            "Epoch number: 161 and the loss : 0.5491738319396973\n",
            "Epoch number: 161 and the accuarcy : 72.63843536376953\n",
            "Epoch number: 171 and the loss : 0.5473583340644836\n",
            "Epoch number: 171 and the accuarcy : 72.80130004882812\n",
            "Epoch number: 181 and the loss : 0.5454797148704529\n",
            "Epoch number: 181 and the accuarcy : 72.80130004882812\n",
            "Epoch number: 191 and the loss : 0.54417484998703\n",
            "Epoch number: 191 and the accuarcy : 72.96416473388672\n",
            "Epoch number: 201 and the loss : 0.5429024696350098\n",
            "Epoch number: 201 and the accuarcy : 73.45277404785156\n",
            "Epoch number: 211 and the loss : 0.542441725730896\n",
            "Epoch number: 211 and the accuarcy : 73.28990173339844\n",
            "Epoch number: 221 and the loss : 0.5400838851928711\n",
            "Epoch number: 221 and the accuarcy : 74.10423278808594\n",
            "Epoch number: 231 and the loss : 0.53907310962677\n",
            "Epoch number: 231 and the accuarcy : 73.61563110351562\n",
            "Epoch number: 241 and the loss : 0.5380666255950928\n",
            "Epoch number: 241 and the accuarcy : 73.77850341796875\n",
            "Epoch number: 251 and the loss : 0.5371977686882019\n",
            "Epoch number: 251 and the accuarcy : 73.94136810302734\n",
            "Epoch number: 261 and the loss : 0.5365150570869446\n",
            "Epoch number: 261 and the accuarcy : 73.94136810302734\n",
            "Epoch number: 271 and the loss : 0.5360295176506042\n",
            "Epoch number: 271 and the accuarcy : 74.26710510253906\n",
            "Epoch number: 281 and the loss : 0.5355543494224548\n",
            "Epoch number: 281 and the accuarcy : 74.75569915771484\n",
            "Epoch number: 291 and the loss : 0.5344738960266113\n",
            "Epoch number: 291 and the accuarcy : 73.94136810302734\n",
            "Epoch number: 301 and the loss : 0.533717930316925\n",
            "Epoch number: 301 and the accuarcy : 74.10423278808594\n",
            "Epoch number: 311 and the loss : 0.5327275395393372\n",
            "Epoch number: 311 and the accuarcy : 74.10423278808594\n",
            "Epoch number: 321 and the loss : 0.5321592092514038\n",
            "Epoch number: 321 and the accuarcy : 74.10423278808594\n",
            "Epoch number: 331 and the loss : 0.5310729742050171\n",
            "Epoch number: 331 and the accuarcy : 74.10423278808594\n",
            "Epoch number: 341 and the loss : 0.5298765301704407\n",
            "Epoch number: 341 and the accuarcy : 74.59283447265625\n",
            "Epoch number: 351 and the loss : 0.5294250845909119\n",
            "Epoch number: 351 and the accuarcy : 74.59283447265625\n",
            "Epoch number: 361 and the loss : 0.5272977352142334\n",
            "Epoch number: 361 and the accuarcy : 74.75569915771484\n",
            "Epoch number: 371 and the loss : 0.5239753723144531\n",
            "Epoch number: 371 and the accuarcy : 74.59283447265625\n",
            "Epoch number: 381 and the loss : 0.5208288431167603\n",
            "Epoch number: 381 and the accuarcy : 74.91857147216797\n",
            "Epoch number: 391 and the loss : 0.5180034041404724\n",
            "Epoch number: 391 and the accuarcy : 74.91857147216797\n",
            "Epoch number: 401 and the loss : 0.5157795548439026\n",
            "Epoch number: 401 and the accuarcy : 74.91857147216797\n",
            "Epoch number: 411 and the loss : 0.5144259929656982\n",
            "Epoch number: 411 and the accuarcy : 75.73289489746094\n",
            "Epoch number: 421 and the loss : 0.5118958353996277\n",
            "Epoch number: 421 and the accuarcy : 75.08142852783203\n",
            "Epoch number: 431 and the loss : 0.5091566443443298\n",
            "Epoch number: 431 and the accuarcy : 75.24430084228516\n",
            "Epoch number: 441 and the loss : 0.507707953453064\n",
            "Epoch number: 441 and the accuarcy : 74.91857147216797\n",
            "Epoch number: 451 and the loss : 0.4944780468940735\n",
            "Epoch number: 451 and the accuarcy : 75.89576721191406\n",
            "Epoch number: 461 and the loss : 0.4893096089363098\n",
            "Epoch number: 461 and the accuarcy : 75.73289489746094\n",
            "Epoch number: 471 and the loss : 0.4880892038345337\n",
            "Epoch number: 471 and the accuarcy : 76.54722595214844\n",
            "Epoch number: 481 and the loss : 0.5005303621292114\n",
            "Epoch number: 481 and the accuarcy : 76.71009826660156\n",
            "Epoch number: 491 and the loss : 0.49814045429229736\n",
            "Epoch number: 491 and the accuarcy : 76.71009826660156\n",
            "Epoch number: 501 and the loss : 0.47843316197395325\n",
            "Epoch number: 501 and the accuarcy : 78.01302337646484\n",
            "Epoch number: 511 and the loss : 0.4742632806301117\n",
            "Epoch number: 511 and the accuarcy : 77.68730163574219\n",
            "Epoch number: 521 and the loss : 0.47241121530532837\n",
            "Epoch number: 521 and the accuarcy : 78.17589569091797\n",
            "Epoch number: 531 and the loss : 0.46580928564071655\n",
            "Epoch number: 531 and the accuarcy : 78.50163269042969\n",
            "Epoch number: 541 and the loss : 0.46229374408721924\n",
            "Epoch number: 541 and the accuarcy : 78.82736206054688\n",
            "Epoch number: 551 and the loss : 0.46102407574653625\n",
            "Epoch number: 551 and the accuarcy : 79.80455780029297\n",
            "Epoch number: 561 and the loss : 0.46181029081344604\n",
            "Epoch number: 561 and the accuarcy : 78.99022674560547\n",
            "Epoch number: 571 and the loss : 0.4586963951587677\n",
            "Epoch number: 571 and the accuarcy : 79.1530990600586\n",
            "Epoch number: 581 and the loss : 0.4562802314758301\n",
            "Epoch number: 581 and the accuarcy : 79.9674301147461\n",
            "Epoch number: 591 and the loss : 0.4538344144821167\n",
            "Epoch number: 591 and the accuarcy : 79.64169311523438\n",
            "Epoch number: 601 and the loss : 0.45116734504699707\n",
            "Epoch number: 601 and the accuarcy : 79.80455780029297\n",
            "Epoch number: 611 and the loss : 0.45147889852523804\n",
            "Epoch number: 611 and the accuarcy : 79.9674301147461\n"
          ]
        }
      ]
    },
    {
      "cell_type": "code",
      "source": [
        "import matplotlib.pyplot as plt\n",
        "plt.plot(range(number_of_iteration),final_losses, )\n",
        "plt.plot(range(number_of_iteration),test_losses,)\n",
        "plt.xlabel('Epochs')\n",
        "plt.ylabel('Loss')\n",
        "plt.legend(['Train','Test'])\n",
        "plt.title('Train vs Test Loss')\n",
        "plt.show()"
      ],
      "metadata": {
        "id": "7G1ZmfiNKBc1",
        "colab": {
          "base_uri": "https://localhost:8080/",
          "height": 295
        },
        "outputId": "047fca9f-849b-4abf-dc5a-bd3559a01f60"
      },
      "execution_count": null,
      "outputs": [
        {
          "output_type": "display_data",
          "data": {
            "text/plain": [
              "<Figure size 432x288 with 1 Axes>"
            ],
            "image/png": "[encoded data removed]"
          },
          "metadata": {
            "needs_background": "light"
          }
        }
      ]
    },
    {
      "cell_type": "code",
      "source": [
        "plt.plot(range(number_of_iteration),final_accuarcy, )\n",
        "plt.plot(range(number_of_iteration),test_accuarcy,)\n",
        "plt.xlabel('Epochs')\n",
        "plt.ylabel('Accuarcy')\n",
        "plt.legend(['Train','Test'])\n",
        "plt.title('Train vs Test Accuarcy')\n",
        "plt.show()"
      ],
      "metadata": {
        "colab": {
          "base_uri": "https://localhost:8080/",
          "height": 295
        },
        "id": "0c_AJIIFQ05O",
        "outputId": "9efaf650-4656-49f9-b50e-9c472d43c523"
      },
      "execution_count": null,
      "outputs": [
        {
          "output_type": "display_data",
          "data": {
            "text/plain": [
              "<Figure size 432x288 with 1 Axes>"
            ],
            "image/png": "[encoded data removed]"
          },
          "metadata": {
            "needs_background": "light"
          }
        }
      ]
    },
    {
      "cell_type": "code",
      "source": [
        "#plot the loss function\n",
        "plt.plot(range(number_of_iteration),final_accuarcy)\n",
        "plt.ylabel('Accuarcy')\n",
        "plt.xlabel('Epochs')"
      ],
      "metadata": {
        "colab": {
          "base_uri": "https://localhost:8080/",
          "height": 296
        },
        "id": "H99wtnJBQ9fG",
        "outputId": "afe21650-8f11-440e-bac1-08b7f681b87a"
      },
      "execution_count": null,
      "outputs": [
        {
          "output_type": "execute_result",
          "data": {
            "text/plain": [
              "Text(0.5, 0, 'Epochs')"
            ]
          },
          "metadata": {},
          "execution_count": 76
        },
        {
          "output_type": "display_data",
          "data": {
            "text/plain": [
              "<Figure size 432x288 with 1 Axes>"
            ],
            "image/png": "[encoded data removed]"
          },
          "metadata": {
            "needs_background": "light"
          }
        }
      ]
    },
    {
      "cell_type": "code",
      "source": [
        "#plot the loss function\n",
        "plt.plot(range(number_of_iteration),test_accuarcy)\n",
        "plt.ylabel('Accuarcy')\n",
        "plt.xlabel('Epochs')"
      ],
      "metadata": {
        "colab": {
          "base_uri": "https://localhost:8080/",
          "height": 296
        },
        "id": "X99qZ8MPREHn",
        "outputId": "376bf8a9-020f-446f-b6a2-6dce3da980d2"
      },
      "execution_count": null,
      "outputs": [
        {
          "output_type": "execute_result",
          "data": {
            "text/plain": [
              "Text(0.5, 0, 'Epochs')"
            ]
          },
          "metadata": {},
          "execution_count": 77
        },
        {
          "output_type": "display_data",
          "data": {
            "text/plain": [
              "<Figure size 432x288 with 1 Axes>"
            ],
            "image/png": "[encoded data removed]"
          },
          "metadata": {
            "needs_background": "light"
          }
        }
      ]
    },
    {
      "cell_type": "code",
      "source": [
        "print(len(preds))\n",
        "print(len(y_train))\n",
        "print(len(predictions))\n",
        "print(len(y_test))"
      ],
      "metadata": {
        "id": "4KLJePYrROPO"
      },
      "execution_count": null,
      "outputs": []
    },
    {
      "cell_type": "code",
      "source": [
        "import matplotlib.pyplot as plt\n",
        "from sklearn.datasets import make_classification\n",
        "from sklearn.metrics import plot_confusion_matrix as cm\n",
        "from sklearn.model_selection import train_test_split\n",
        "#Calculating Confusion Matrix\n",
        "CM = cm(y_test, y_pred)\n",
        "print('Confusion Matrix is : \\n', CM)\n"
      ],
      "metadata": {
        "id": "hV1fT0AmWB1Z"
      },
      "execution_count": null,
      "outputs": []
    }
  ]
}